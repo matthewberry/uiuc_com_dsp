{
  "nbformat": 4,
  "nbformat_minor": 0,
  "metadata": {
    "colab": {
      "name": "DSP_personalized_medicine_data_synthesis.ipynb",
      "provenance": [],
      "collapsed_sections": [],
      "toc_visible": true,
      "include_colab_link": true
    },
    "kernelspec": {
      "name": "ir",
      "display_name": "R"
    }
  },
  "cells": [
    {
      "cell_type": "markdown",
      "metadata": {
        "id": "view-in-github",
        "colab_type": "text"
      },
      "source": [
        "<a href=\"https://colab.research.google.com/github/matthewberry/uiuc_com_dsp/blob/master/DSP_personalized_medicine_data_synthesis.ipynb\" target=\"_parent\"><img src=\"https://colab.research.google.com/assets/colab-badge.svg\" alt=\"Open In Colab\"/></a>"
      ]
    },
    {
      "cell_type": "code",
      "metadata": {
        "id": "EHkatR-BK0Uh",
        "colab_type": "code",
        "outputId": "c35a8b67-236e-4ac4-9e0a-757f4611c073",
        "colab": {
          "base_uri": "https://localhost:8080/",
          "height": 488
        }
      },
      "source": [
        "###################\n",
        "# generate the data\n",
        "###################\n",
        "\n",
        "install.packages(\"aVirtualTwins\", repos = \"http://cran.rstudio.com/\")\n",
        "library(aVirtualTwins)\n",
        "\n",
        "# load data sepsis\n",
        "data(sepsis)\n",
        "set.seed(1)\n",
        "Treat1 = (sepsis$PRAPACHE < 26 & sepsis$AGE < 50) | (sepsis$PRAPACHE >= 26 & sepsis$BLGCS < 12)\n",
        "n = nrow(sepsis)\n",
        "THERAPY = rbinom(n, 1, 0.5)\n",
        "\n",
        "Health = rnorm(n, 0.5, 2)*Treat1*(THERAPY == 1) + rnorm(n, -0.5, 2)*Treat1*(THERAPY == 0) + \n",
        "        rnorm(n, -0.5, 2)*(!Treat1)*(THERAPY == 1) + rnorm(n, 0.5, 2)*(!Treat1)*(THERAPY == 0)\n",
        "  \n",
        "boxplot(Health~ THERAPY + Treat1)\n",
        "  \n",
        "Sepsis = sepsis\n",
        "colnames(Sepsis)[1] = \"Health\"\n",
        "  \n",
        "Sepsis$Health = Health\n",
        "Sepsis$THERAPY = THERAPY\n",
        "Sepsis$BEST = Treat1 + 0\n",
        "write.csv(Sepsis, file=\"data/Sepsis.csv\")"
      ],
      "execution_count": 0,
      "outputs": [
        {
          "output_type": "stream",
          "text": [
            "Installing package into ‘/usr/local/lib/R/site-library’\n",
            "(as ‘lib’ is unspecified)\n",
            "\n"
          ],
          "name": "stderr"
        },
        {
          "output_type": "display_data",
          "data": {
            "image/png": "[encoded data removed]",
            "text/plain": [
              "plot without title"
            ]
          },
          "metadata": {
            "tags": [],
            "image/png": {
              "width": 420,
              "height": 420
            },
            "text/plain": {
              "width": 420,
              "height": 420
            }
          }
        }
      ]
    }
  ]
}