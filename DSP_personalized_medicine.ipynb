{
  "nbformat": 4,
  "nbformat_minor": 0,
  "metadata": {
    "colab": {
      "name": "DSP_personalized_medicine.ipynb",
      "provenance": [],
      "collapsed_sections": [],
      "toc_visible": true,
      "include_colab_link": true
    },
    "kernelspec": {
      "name": "ir",
      "display_name": "R"
    }
  },
  "cells": [
    {
      "cell_type": "markdown",
      "metadata": {
        "id": "view-in-github",
        "colab_type": "text"
      },
      "source": [
        "<a href=\"https://colab.research.google.com/github/matthewberry/uiuc_com_dsp/blob/master/DSP_personalized_medicine.ipynb\" target=\"_parent\"><img src=\"https://colab.research.google.com/assets/colab-badge.svg\" alt=\"Open In Colab\"/></a>"
      ]
    },
    {
      "cell_type": "markdown",
      "metadata": {
        "id": "2P-HACBS8AvL",
        "colab_type": "text"
      },
      "source": [
        "## Using This Notebook\n",
        "\n",
        "This notebook is an interactive environment that combines explanatory text with executable code. You will step through an example analysis, which can then serve as a starting point for a project of your own design.\n",
        "\n",
        "If you are new to notebooks, you might find this introduction helpful: [Overview of Colaboratory Features](https://colab.research.google.com/notebooks/basic_features_overview.ipynb) (Because this notebook uses R, not python, code examples from the introduction will not execute properly here.) You might also want to refer to the [R documentation](https://cran.r-project.org/doc/manuals/r-release/R-intro.html).\n",
        "\n",
        "**Important Note**: After a period of inactivity (Google does not specify exactly how long), Google will disconnect your notebook from the virtual machine that had been running it. When you return, Google will connect to a new virtual machine. **If this happens and you find cells that previously ran without error have suddenly stopped working, re-run all of the notebook's cells again, starting at the top.**\n",
        "\n",
        "### Before You Proceed\n",
        "\n",
        "In order to run the notebook, you will need your own copy of it, along with your own copy of the data. Here are the steps to follow:\n",
        "\n",
        "1. If you have not already enabled Google Apps @ Illinois, which allows you to use Google Drive, Google Docs, and so on with your illinois.edu account, [enable Google Apps @ Illinois](https://answers.uillinois.edu/illinois/page.php?id=55049).\n",
        "2. Check the currently active Google account on this notebook. Look near the top-right corner of the screen for either a `Sign In` button or a round icon containing either a letter or your profile photo. If you see a `Sign In` button, click it and follow the prompts to sign in with your illinois.edu account. Otherwise, click the icon to open a popup that identifies the currently active Google account. If the account is not your illinois.edu account, switch to your illinois.edu account (you might have to click `Add Account` if it is not already an option in the list).\n",
        "3. In the `File` menu above, select `Save a copy in Drive...`. This step will create a new browser tab containing your copy of the notebook. At this point, you can close the old browser tab that contained the original copy of the notebook.\n",
        "4. Open the `File` menu and select `Locate in Drive`, which will show you where you can find the notebook if you need to open it later."
      ]
    },
    {
      "cell_type": "markdown",
      "metadata": {
        "id": "1vlBfQhg-Emo",
        "colab_type": "text"
      },
      "source": [
        "## Environment Setup\n",
        "\n",
        "The cell below sets up the environment for running the analysis. Run the cell and wait for it to complete, which will only take a few seconds. You will see some informational messages, which you can ignore."
      ]
    },
    {
      "cell_type": "code",
      "metadata": {
        "id": "PnPoKo4p_yJb",
        "colab_type": "code",
        "colab": {}
      },
      "source": [
        "install.packages(\"randomForest\", repos = \"http://cran.rstudio.com/\")\n",
        "\n",
        "library(randomForest)\n",
        "library(tidyverse)\n",
        "library(rpart)\n",
        "\n",
        "system(\"rm -rf /content/sample_data\")"
      ],
      "execution_count": 0,
      "outputs": []
    },
    {
      "cell_type": "markdown",
      "metadata": {
        "id": "SZQdexYrTG_e",
        "colab_type": "text"
      },
      "source": [
        "# Personalized Medicine Example: Sepsis Treatment\n",
        "\n",
        "Personalized medicine draws a lot of attention in medical research. The goal of personalized medicine is to make a tailored decision for each patient, such that his/her clinical outcome can be optimized.\n",
        "\n",
        "Let’s consider a simulated data set derived from the [SIDES package](http://biopharmnet.com/subgroup-analysis-software/). In this data set, 470 patients and 14 variables are observed. The variables are listed below.\n",
        "\n",
        "*   `Health`: Health outcome (larger the better)\n",
        "*   `THERAPY`: 1 for active treatment, 0 for the control treatment\n",
        "*   `TIMFIRST`: Time from first sepsis-organ fail to start drug\n",
        "*   `AGE`: Patient age in years\n",
        "*   `BLLPLAT`: Baseline local platelets\n",
        "*   `blSOFA`: Sum of baseline sofa score (cardiovascular, hematology, hepatorenal, and respiration scores)\n",
        "*   `BLLCREAT`: Base creatinine\n",
        "*   `ORGANNUM`: Number of baseline organ failures\n",
        "*   `PRAPACHE`: Pre-infusion apache-ii score\n",
        "*   `BLGCS`: Base GLASGOW coma scale score\n",
        "*   `BLIL6`: Baseline serum IL-6 concentration\n",
        "*   `BLADL`: Baseline activity of daily living score\n",
        "*   `BLLBILI`: Baseline local bilirubin\n",
        "*   `BEST`: The true best treatment suggested by doctors. **You should not use this variable when fitting models!**\n",
        "\n",
        "For each patient, sepsis was observed during their hospital stay. Hence, one of the two treatments (indicated by variable `THERAPY`) must be chosen to prevent further adverse events. After the treatment, the patient's health outcome (`Health`) was measured, with a larger value being the better outcome.\n",
        "\n",
        "Run the cell below to load the data set and display the first few rows. It will only take a few seconds to complete. You will see a warning message about a missing column name, which is explained in the comment and addressed by the code that follows the comment.\n",
        "\n",
        "#### Working with Input and Output Files\n",
        "\n",
        "You will see that the cell below reads the input csv file from a URL. For your independent project, you can use the same approach if you like, or you can use\n",
        "Colab's built-in tools for uploading and downloading files: Find the file-folder icon in the narrow bar that runs along the left side of this screen. Click it to reveal the `Files` panel. Here, you can upload files that will be accessible to your notebook by using the path `/content/name-of-your-file`. Your notebook can also create and modify files within the `/content/` directory, which you can then download via the `Files` panel."
      ]
    },
    {
      "cell_type": "code",
      "metadata": {
        "id": "3o11KxDzyC0g",
        "colab_type": "code",
        "colab": {}
      },
      "source": [
        "Sepsis <- read_csv(\"http://drive.google.com/uc?id=1v_Pq_DTmE0zlSzzVHg3f_5cx-_lSCxnX\")\n",
        "# the first, unnamed column in the csv file will be assigned the name X1\n",
        "# (R will print a warning message about the missing column name)\n",
        "# we want to use X1 not as an observed variable but as the index\n",
        "Sepsis <- column_to_rownames(Sepsis, var = \"X1\")\n",
        "head(Sepsis)"
      ],
      "execution_count": 0,
      "outputs": []
    },
    {
      "cell_type": "markdown",
      "metadata": {
        "id": "-ovy803uIyOc",
        "colab_type": "text"
      },
      "source": [
        "# Virtual Twins: Introduction and Tuning\n",
        "\n",
        "We would like to use the data set to predict the best treatment for a new patient. A strategy called [Virtual Twins](https://onlinelibrary.wiley.com/doi/abs/10.1002/sim.4322) was proposed by Foster et al. (2011) to tackle this problem. Here we consider a simpler version of the method.\n",
        "\n",
        "We will fit two random forests to model the outcome `Health`: one model is based on all patients who received treatment 1, and the other model is based on all patients who received treatment 0. Denote these two models as $\\widehat f_1(x)$ and $\\widehat f_0(x)$, respectively. When a new patient arrives, we will use the two models to calculate the expected health status for the new patient, and we will suggest the treatment associated with the model that gives a larger prediction value. In other words, for a new $x^{*}$, we compare $\\widehat f_1(x^{*})$ and $\\widehat f_0(x^{*})$ and suggest the treatment whose model produced the higher value.\n",
        "\n",
        "We will build the models with the random forest algorithm. Our first step is to tune the `mtry` and `nodesize` parameters for the data set.\n",
        "\n",
        "Read the code and comments in the cell below. Run the cell, which will take about seven minutes to complete."
      ]
    },
    {
      "cell_type": "code",
      "metadata": {
        "id": "SPYGePw53fWq",
        "colab_type": "code",
        "colab": {}
      },
      "source": [
        "# n_simulations is the number of random simulations we will run\n",
        "n_simulations <- 100\n",
        "\n",
        "# n_patients is the number of patients\n",
        "n_patients <- nrow(Sepsis)\n",
        "\n",
        "# all_tune is a dataframe with one row for each combination of nodesize and mtry\n",
        "# that we want to evaluate\n",
        "# you can find guidance on values for these and other random forest parameters\n",
        "# in machine learning literature\n",
        "all_tune <- expand.grid(\n",
        "            \"nodesize\" = c(1, 5, 10),\n",
        "            \"mtry\" = c(1, 4, 12))\n",
        "\n",
        "# error_vals is a matrix of the error values from each simulation \n",
        "error_vals <- matrix(NA, nrow(all_tune), n_simulations)\n",
        "\n",
        "# initialize the random seed before starting the simulations for reproducibility\n",
        "set.seed(1)\n",
        "\n",
        "# for each simulation...\n",
        "for (k in 1:n_simulations) {\n",
        "  # create a training set consisting of 75% of the patients and a testing set\n",
        "  # consisting of the remaining 25% of the patients\n",
        "  intrain <- sample(1:n_patients, 0.75*n_patients)\n",
        "\n",
        "  train <- Sepsis[intrain, ]\n",
        "  test <- Sepsis[-intrain, ]\n",
        "\n",
        "  # for each combination of nodesize and mtry...\n",
        "  for (j in 1:nrow(all_tune)) {\n",
        "    # build the model for treatment 0 and the model for treatment 1\n",
        "    # note the following for model0 and model1:\n",
        "    # - BEST is not used in building the model\n",
        "    # - the models are built only from the patients in the training set (not the\n",
        "    #   testing test) who received the therapy associated with the model\n",
        "    # - mtry and nodesize come from all_train\n",
        "    model0 <- randomForest(Health ~ . - BEST, data = train[train$THERAPY == 0, ], \n",
        "                           mtry = all_tune$mtry[j], nodesize = all_tune$nodesize[j])\n",
        "    model1 <- randomForest(Health ~ . - BEST, data = train[train$THERAPY == 1, ], \n",
        "                           mtry = all_tune$mtry[j], nodesize = all_tune$nodesize[j])\n",
        "\n",
        "    # now use model0 and model1 to predict health outcomes on each of the\n",
        "    # patients in the testing set\n",
        "    test0 <- predict(model0, test)\n",
        "    test1 <- predict(model1, test)\n",
        "\n",
        "    # for each patient in the testing set, recommend whichever treatment has the\n",
        "    # greater score in the model predictions\n",
        "    suggest = (test1 > test0)\n",
        "    # compare the suggestions to the BEST (i.e., doctor-recommended) treatment\n",
        "    # and record the mean error\n",
        "    error_vals[j, k] = mean(suggest != test$BEST)\n",
        "  }\n",
        "}\n",
        "\n",
        "# summarize the error for each combination of nodesize and mtry evaluated\n",
        "cbind(all_tune, \"Mean Error\" = rowMeans(error_vals))"
      ],
      "execution_count": 0,
      "outputs": []
    },
    {
      "cell_type": "markdown",
      "metadata": {
        "id": "cBiCm446S8lo",
        "colab_type": "text"
      },
      "source": [
        "# Interpretation\n",
        "\n",
        "Which values of `nodesize` and `mtry` seem best? What might that say about the underlying truth in the data set?"
      ]
    },
    {
      "cell_type": "markdown",
      "metadata": {
        "id": "cffJTyRZTFFN",
        "colab_type": "text"
      },
      "source": [
        "# Single-Tree Model\n",
        "\n",
        "As a second step, we will construct a single-tree model (CART) to represent the choice of best treatment.\n",
        "\n",
        "Read the code and comments in the cell below. Run the cell, which will take less than a second to complete."
      ]
    },
    {
      "cell_type": "code",
      "metadata": {
        "id": "rLv9YC7hTOf1",
        "colab_type": "code",
        "colab": {}
      },
      "source": [
        "# build a new model0 and model1 using the optimal mtry and nodesize we found above\n",
        "# this time, there's no split into training and tests sets; all patients for each\n",
        "# therapy are included, but we still do not use the BEST column\n",
        "model0 <- randomForest(Health ~ . - BEST, data =  Sepsis[Sepsis$THERAPY == 0, ], mtry = 12, nodesize = 10)\n",
        "model1 <- randomForest(Health ~ . - BEST, data =  Sepsis[Sepsis$THERAPY == 1, ], mtry = 12, nodesize = 10)\n",
        "\n",
        "# calculate the predicted health for all patients according to model0 and model1\n",
        "pred0 <- predict(model0, Sepsis)\n",
        "pred1 <- predict(model1, Sepsis)\n",
        "\n",
        "# determine the suggested treatment according to the predicted health\n",
        "Sepsis$FitBest <- (pred1 > pred0)\n",
        "\n",
        "# fit a decision tree to predict FitBest, excluding BEST, Health, and THERAPY\n",
        "rpart.fit <- rpart(as.factor(FitBest) ~ . - BEST - Health - THERAPY, data = Sepsis)\n",
        "\n",
        "# in the coming cells, we will prune the tree\n",
        "# start by plotting the cross-validation relative error at different tree sizes\n",
        "plotcp(rpart.fit)"
      ],
      "execution_count": 0,
      "outputs": []
    },
    {
      "cell_type": "markdown",
      "metadata": {
        "id": "XU0i6eCK1wMM",
        "colab_type": "text"
      },
      "source": [
        "Run the cell below, which will take less than a second, to view the plot data in tabular form."
      ]
    },
    {
      "cell_type": "code",
      "metadata": {
        "id": "hq8E7i0WTWkl",
        "colab_type": "code",
        "colab": {}
      },
      "source": [
        "rpart.fit$cptable"
      ],
      "execution_count": 0,
      "outputs": []
    },
    {
      "cell_type": "markdown",
      "metadata": {
        "id": "W6DpIgSl1_As",
        "colab_type": "text"
      },
      "source": [
        "When pruning, we want to choose a value of `cp` that balances the tree complexity against the error performance. According to the [plotcp documentation](https://www.rdocumentation.org/packages/rpart/versions/4.1-15/topics/plotcp), \"A good choice of `cp` for pruning\n",
        "is often the leftmost value for which the mean lies below the horizontal line.\" What is the intuition behind that guidance? What value of `cp` is suggested by the plot and table above? \n",
        "\n",
        "Run the cell below, which will take less than a second, to build and view a pruned tree."
      ]
    },
    {
      "cell_type": "code",
      "metadata": {
        "id": "4yrp-yZ-Tb1h",
        "colab_type": "code",
        "colab": {}
      },
      "source": [
        "rpart.fit = rpart(as.factor(FitBest) ~ . - BEST - Health - THERAPY, data = Sepsis, cp = 0.023)\n",
        "\n",
        "plot(rpart.fit)\n",
        "text(rpart.fit, use.n = TRUE)"
      ],
      "execution_count": 0,
      "outputs": []
    }
  ]
}