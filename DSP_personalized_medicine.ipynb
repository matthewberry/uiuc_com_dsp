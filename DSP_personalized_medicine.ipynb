{
  "nbformat": 4,
  "nbformat_minor": 0,
  "metadata": {
    "colab": {
      "name": "DSP_personalized_medicine.ipynb",
      "provenance": [],
      "collapsed_sections": [],
      "include_colab_link": true
    },
    "kernelspec": {
      "name": "ir",
      "display_name": "R"
    }
  },
  "cells": [
    {
      "cell_type": "markdown",
      "metadata": {
        "id": "view-in-github",
        "colab_type": "text"
      },
      "source": [
        "<a href=\"https://colab.research.google.com/github/matthewberry/uiuc_com_dsp/blob/master/DSP_personalized_medicine.ipynb\" target=\"_parent\"><img src=\"https://colab.research.google.com/assets/colab-badge.svg\" alt=\"Open In Colab\"/></a>"
      ]
    },
    {
      "cell_type": "markdown",
      "metadata": {
        "id": "SZQdexYrTG_e",
        "colab_type": "text"
      },
      "source": [
        "# Tuning Random Forests in Virtual Twins\n",
        "\n",
        "Personalized medicine draws a lot of attention in medical research. The goal of personalized medicine is to make a tailored decision for each patient, such that his/her clinical outcome can be optimized.\n",
        "\n",
        "Let’s consider data modified from the [SIDES method](http://biopharmnet.com/subgroup-analysis-software/). In this dataset, 470 patients and 13 variables are observed. The variables are listed below.\n",
        "\n",
        "*   `Health`: Health outcome (larger the better)\n",
        "*   `THERAPY`: 1 for active treatment, 0 for the control treatment\n",
        "*   `TIMFIRST`: Time from first sepsis-organ fail to start drug\n",
        "*   `AGE`: Patient age in years\n",
        "*   `BLLPLAT`: Baseline local platelets\n",
        "*   `blSOFA`: Sum of baseline sofa score (cardiovascular, hematology, hepatorenal, and respiration scores)\n",
        "*   `BLLCREAT`: Base creatinine\n",
        "*   `ORGANNUM`: Number of baseline organ failures\n",
        "*   `PRAPACHE`: Pre-infusion apache-ii score\n",
        "*   `BLGCS`: Base GLASGOW coma scale score\n",
        "*   `BLIL6`: Baseline serum IL-6 concentration\n",
        "*   `BLADL`: Baseline activity of daily living score\n",
        "*   `BLLBILI`: Baseline local bilirubin\n",
        "*   `BEST`: The true best treatment suggested by doctors. **You should not use this variable when fitting models!**\n",
        "\n",
        "For each patient, sepsis was observed during their hospital stay. Hence, one of the two treatments (indicated by variable `THERAPY`) must be chosen to prevent further adverse events. After the treatment, the patient's health outcome (`Health`) was measured, with a larger value being the better outcome.\n",
        "\n",
        "Because treatments were assigned randomly, we are not able to suggest better treatment for a new patient. A strategy called [Virtual Twins](https://onlinelibrary.wiley.com/doi/abs/10.1002/sim.4322) was proposed by Foster et al. (2011) to tackle this problem. We consider a simpler version of the method. We fit two random forests to model the outcome `Health`: one model uses all patients who received treatment 1, and another model for all patients who received treatment 0. Denote these two models as $\\widehat f_1(x)$ and $\\widehat f_0(x)$, respectively. When a new patient arrives, we use both models to predict the outcomes and see which model gives a better health status. We will suggest the treatment label associated with the model that gives a larger prediction value. In other words, for a new $x^{*}$, we compare $\\widehat f_1(x^{*})$ and $\\widehat f_0(x^{*})$ and suggest the better label. The goal for this question is to select tuning parameters for random forest such that it will suggest the best treatment for a patient. Perform the following:\n",
        "\n",
        "Randomly split the data into 75% for training and 25% for testing.\n",
        "For the training data, fit the virtual twins model and then use the testing data to suggest the best treatment.\n",
        "You should not use the variable `BEST` when fitting the models\n",
        "Pick three different mtry values and three different nodesize, leave all other tuning parameters as default.\n",
        "After predicting the best treatment in the testing data, compare it to the truth `BEST`\n",
        "Repeat this entire process 100 times and average the prediction errors\n",
        "Summarize your results, including the model performance and the effect of tuning parameters. Intuitively demonstrate them."
      ]
    },
    {
      "cell_type": "code",
      "metadata": {
        "id": "EHkatR-BK0Uh",
        "colab_type": "code",
        "colab": {
          "base_uri": "https://localhost:8080/",
          "height": 488
        },
        "outputId": "c35a8b67-236e-4ac4-9e0a-757f4611c073"
      },
      "source": [
        "# This is how the data was generated\n",
        "# you do not need this\n",
        "install.packages(\"aVirtualTwins\", repos = \"http://cran.rstudio.com/\")\n",
        "library(aVirtualTwins)\n",
        "\n",
        "# load data sepsis\n",
        "data(sepsis)\n",
        "set.seed(1)\n",
        "Treat1 = (sepsis$PRAPACHE < 26 & sepsis$AGE < 50) | (sepsis$PRAPACHE >= 26 & sepsis$BLGCS < 12)\n",
        "n = nrow(sepsis)\n",
        "THERAPY = rbinom(n, 1, 0.5)\n",
        "\n",
        "Health = rnorm(n, 0.5, 2)*Treat1*(THERAPY == 1) + rnorm(n, -0.5, 2)*Treat1*(THERAPY == 0) + \n",
        "        rnorm(n, -0.5, 2)*(!Treat1)*(THERAPY == 1) + rnorm(n, 0.5, 2)*(!Treat1)*(THERAPY == 0)\n",
        "  \n",
        "boxplot(Health~ THERAPY + Treat1)\n",
        "  \n",
        "Sepsis = sepsis\n",
        "colnames(Sepsis)[1] = \"Health\"\n",
        "  \n",
        "Sepsis$Health = Health\n",
        "Sepsis$THERAPY = THERAPY\n",
        "Sepsis$BEST = Treat1 + 0\n",
        "write.csv(Sepsis, file=\"data/Sepsis.csv\")"
      ],
      "execution_count": 19,
      "outputs": [
        {
          "output_type": "stream",
          "text": [
            "Installing package into ‘/usr/local/lib/R/site-library’\n",
            "(as ‘lib’ is unspecified)\n",
            "\n"
          ],
          "name": "stderr"
        },
        {
          "output_type": "display_data",
          "data": {
            "image/png": "[encoded data removed]",
            "text/plain": [
              "plot without title"
            ]
          },
          "metadata": {
            "tags": [],
            "image/png": {
              "width": 420,
              "height": 420
            },
            "text/plain": {
              "width": 420,
              "height": 420
            }
          }
        }
      ]
    },
    {
      "cell_type": "code",
      "metadata": {
        "id": "3o11KxDzyC0g",
        "colab_type": "code",
        "outputId": "5f1ea7e0-67a6-47e1-a6d8-421b272220a3",
        "colab": {
          "base_uri": "https://localhost:8080/",
          "height": 561
        }
      },
      "source": [
        "library(tidyverse)\n",
        "Sepsis <- read_csv(\"data/Sepsis.csv\")\n",
        "head(Sepsis)"
      ],
      "execution_count": 20,
      "outputs": [
        {
          "output_type": "stream",
          "text": [
            "Warning message:\n",
            "“Missing column names filled in: 'X1' [1]”\n",
            "Parsed with column specification:\n",
            "cols(\n",
            "  X1 = \u001b[32mcol_double()\u001b[39m,\n",
            "  Health = \u001b[32mcol_double()\u001b[39m,\n",
            "  THERAPY = \u001b[32mcol_double()\u001b[39m,\n",
            "  PRAPACHE = \u001b[32mcol_double()\u001b[39m,\n",
            "  AGE = \u001b[32mcol_double()\u001b[39m,\n",
            "  BLGCS = \u001b[32mcol_double()\u001b[39m,\n",
            "  ORGANNUM = \u001b[32mcol_double()\u001b[39m,\n",
            "  BLIL6 = \u001b[32mcol_double()\u001b[39m,\n",
            "  BLLPLAT = \u001b[32mcol_double()\u001b[39m,\n",
            "  BLLBILI = \u001b[32mcol_double()\u001b[39m,\n",
            "  BLLCREAT = \u001b[32mcol_double()\u001b[39m,\n",
            "  TIMFIRST = \u001b[32mcol_double()\u001b[39m,\n",
            "  BLADL = \u001b[32mcol_double()\u001b[39m,\n",
            "  blSOFA = \u001b[32mcol_double()\u001b[39m,\n",
            "  BEST = \u001b[32mcol_double()\u001b[39m\n",
            ")\n",
            "\n"
          ],
          "name": "stderr"
        },
        {
          "output_type": "display_data",
          "data": {
            "text/plain": [
              "  X1 Health    THERAPY PRAPACHE AGE    BLGCS ORGANNUM BLIL6   BLLPLAT  BLLBILI \n",
              "1 1  -3.188260 0       19       42.921 15    1         301.80 191.0000 2.913416\n",
              "2 2  -3.546312 0       48       68.818 11    2         118.90 264.1565 0.400000\n",
              "3 3   1.188689 1       20       68.818 15    2          92.80 123.0000 5.116471\n",
              "4 4   2.693554 1       19       33.174 14    2        1232.00 244.0000 3.142092\n",
              "5 5   3.007590 0       48       46.532  3    4        2568.00  45.0000 4.052668\n",
              "6 6   3.870876 1       21       56.098 14    1         162.65 137.0000 0.500000\n",
              "  BLLCREAT TIMFIRST BLADL blSOFA BEST\n",
              "1 1.000000 17.17    0      5.00  1   \n",
              "2 1.100000 17.17    5     10.00  1   \n",
              "3 1.000000 10.00    1      7.50  0   \n",
              "4 1.200000 17.17    0      6.25  1   \n",
              "5 3.000000 10.00    0     12.00  1   \n",
              "6 4.662556 10.00    0      8.75  0   "
            ],
            "text/latex": "A tibble: 6 × 15\n\\begin{tabular}{lllllllllllllll}\n X1 & Health & THERAPY & PRAPACHE & AGE & BLGCS & ORGANNUM & BLIL6 & BLLPLAT & BLLBILI & BLLCREAT & TIMFIRST & BLADL & blSOFA & BEST\\\\\n <dbl> & <dbl> & <dbl> & <dbl> & <dbl> & <dbl> & <dbl> & <dbl> & <dbl> & <dbl> & <dbl> & <dbl> & <dbl> & <dbl> & <dbl>\\\\\n\\hline\n\t 1 & -3.188260 & 0 & 19 & 42.921 & 15 & 1 &  301.80 & 191.0000 & 2.913416 & 1.000000 & 17.17 & 0 &  5.00 & 1\\\\\n\t 2 & -3.546312 & 0 & 48 & 68.818 & 11 & 2 &  118.90 & 264.1565 & 0.400000 & 1.100000 & 17.17 & 5 & 10.00 & 1\\\\\n\t 3 &  1.188689 & 1 & 20 & 68.818 & 15 & 2 &   92.80 & 123.0000 & 5.116471 & 1.000000 & 10.00 & 1 &  7.50 & 0\\\\\n\t 4 &  2.693554 & 1 & 19 & 33.174 & 14 & 2 & 1232.00 & 244.0000 & 3.142092 & 1.200000 & 17.17 & 0 &  6.25 & 1\\\\\n\t 5 &  3.007590 & 0 & 48 & 46.532 &  3 & 4 & 2568.00 &  45.0000 & 4.052668 & 3.000000 & 10.00 & 0 & 12.00 & 1\\\\\n\t 6 &  3.870876 & 1 & 21 & 56.098 & 14 & 1 &  162.65 & 137.0000 & 0.500000 & 4.662556 & 10.00 & 0 &  8.75 & 0\\\\\n\\end{tabular}\n",
            "text/markdown": "\nA tibble: 6 × 15\n\n| X1 &lt;dbl&gt; | Health &lt;dbl&gt; | THERAPY &lt;dbl&gt; | PRAPACHE &lt;dbl&gt; | AGE &lt;dbl&gt; | BLGCS &lt;dbl&gt; | ORGANNUM &lt;dbl&gt; | BLIL6 &lt;dbl&gt; | BLLPLAT &lt;dbl&gt; | BLLBILI &lt;dbl&gt; | BLLCREAT &lt;dbl&gt; | TIMFIRST &lt;dbl&gt; | BLADL &lt;dbl&gt; | blSOFA &lt;dbl&gt; | BEST &lt;dbl&gt; |\n|---|---|---|---|---|---|---|---|---|---|---|---|---|---|---|\n| 1 | -3.188260 | 0 | 19 | 42.921 | 15 | 1 |  301.80 | 191.0000 | 2.913416 | 1.000000 | 17.17 | 0 |  5.00 | 1 |\n| 2 | -3.546312 | 0 | 48 | 68.818 | 11 | 2 |  118.90 | 264.1565 | 0.400000 | 1.100000 | 17.17 | 5 | 10.00 | 1 |\n| 3 |  1.188689 | 1 | 20 | 68.818 | 15 | 2 |   92.80 | 123.0000 | 5.116471 | 1.000000 | 10.00 | 1 |  7.50 | 0 |\n| 4 |  2.693554 | 1 | 19 | 33.174 | 14 | 2 | 1232.00 | 244.0000 | 3.142092 | 1.200000 | 17.17 | 0 |  6.25 | 1 |\n| 5 |  3.007590 | 0 | 48 | 46.532 |  3 | 4 | 2568.00 |  45.0000 | 4.052668 | 3.000000 | 10.00 | 0 | 12.00 | 1 |\n| 6 |  3.870876 | 1 | 21 | 56.098 | 14 | 1 |  162.65 | 137.0000 | 0.500000 | 4.662556 | 10.00 | 0 |  8.75 | 0 |\n\n",
            "text/html": [
              "<table>\n",
              "<caption>A tibble: 6 × 15</caption>\n",
              "<thead>\n",
              "\t<tr><th scope=col>X1</th><th scope=col>Health</th><th scope=col>THERAPY</th><th scope=col>PRAPACHE</th><th scope=col>AGE</th><th scope=col>BLGCS</th><th scope=col>ORGANNUM</th><th scope=col>BLIL6</th><th scope=col>BLLPLAT</th><th scope=col>BLLBILI</th><th scope=col>BLLCREAT</th><th scope=col>TIMFIRST</th><th scope=col>BLADL</th><th scope=col>blSOFA</th><th scope=col>BEST</th></tr>\n",
              "\t<tr><th scope=col>&lt;dbl&gt;</th><th scope=col>&lt;dbl&gt;</th><th scope=col>&lt;dbl&gt;</th><th scope=col>&lt;dbl&gt;</th><th scope=col>&lt;dbl&gt;</th><th scope=col>&lt;dbl&gt;</th><th scope=col>&lt;dbl&gt;</th><th scope=col>&lt;dbl&gt;</th><th scope=col>&lt;dbl&gt;</th><th scope=col>&lt;dbl&gt;</th><th scope=col>&lt;dbl&gt;</th><th scope=col>&lt;dbl&gt;</th><th scope=col>&lt;dbl&gt;</th><th scope=col>&lt;dbl&gt;</th><th scope=col>&lt;dbl&gt;</th></tr>\n",
              "</thead>\n",
              "<tbody>\n",
              "\t<tr><td>1</td><td>-3.188260</td><td>0</td><td>19</td><td>42.921</td><td>15</td><td>1</td><td> 301.80</td><td>191.0000</td><td>2.913416</td><td>1.000000</td><td>17.17</td><td>0</td><td> 5.00</td><td>1</td></tr>\n",
              "\t<tr><td>2</td><td>-3.546312</td><td>0</td><td>48</td><td>68.818</td><td>11</td><td>2</td><td> 118.90</td><td>264.1565</td><td>0.400000</td><td>1.100000</td><td>17.17</td><td>5</td><td>10.00</td><td>1</td></tr>\n",
              "\t<tr><td>3</td><td> 1.188689</td><td>1</td><td>20</td><td>68.818</td><td>15</td><td>2</td><td>  92.80</td><td>123.0000</td><td>5.116471</td><td>1.000000</td><td>10.00</td><td>1</td><td> 7.50</td><td>0</td></tr>\n",
              "\t<tr><td>4</td><td> 2.693554</td><td>1</td><td>19</td><td>33.174</td><td>14</td><td>2</td><td>1232.00</td><td>244.0000</td><td>3.142092</td><td>1.200000</td><td>17.17</td><td>0</td><td> 6.25</td><td>1</td></tr>\n",
              "\t<tr><td>5</td><td> 3.007590</td><td>0</td><td>48</td><td>46.532</td><td> 3</td><td>4</td><td>2568.00</td><td> 45.0000</td><td>4.052668</td><td>3.000000</td><td>10.00</td><td>0</td><td>12.00</td><td>1</td></tr>\n",
              "\t<tr><td>6</td><td> 3.870876</td><td>1</td><td>21</td><td>56.098</td><td>14</td><td>1</td><td> 162.65</td><td>137.0000</td><td>0.500000</td><td>4.662556</td><td>10.00</td><td>0</td><td> 8.75</td><td>0</td></tr>\n",
              "</tbody>\n",
              "</table>\n"
            ]
          },
          "metadata": {
            "tags": []
          }
        }
      ]
    },
    {
      "cell_type": "code",
      "metadata": {
        "id": "SPYGePw53fWq",
        "colab_type": "code",
        "colab": {
          "base_uri": "https://localhost:8080/",
          "height": 267
        },
        "outputId": "ed6fad38-64a3-4c44-d0fa-a9038aed4fb1"
      },
      "source": [
        "library(randomForest)\n",
        "\n",
        "nsim = 100\n",
        "N = nrow(Sepsis)\n",
        "\n",
        "allTune = expand.grid(\"nodesize\" = c(1, 5, 10),\n",
        "            \"mtry\" = c(1, 4, 12))\n",
        "Error = matrix(NA, nrow(allTune), nsim)\n",
        "\n",
        "set.seed(1)\n",
        "\n",
        "for (k in 1:nsim)\n",
        "{\n",
        "  intrain <- sample(1:N, N/2)\n",
        "  \n",
        "  train = Sepsis[intrain, ]\n",
        "  test = Sepsis[-intrain, ]\n",
        "  \n",
        "  for (j in 1:nrow(allTune))\n",
        "  {\n",
        "    model0 <- randomForest(Health ~ . - BEST, data = train[train$THERAPY == 0, ], \n",
        "                           mtry = allTune$mtry[j], nodesize = allTune$nodesize[j])\n",
        "    model1 <- randomForest(Health ~ . - BEST, data = train[train$THERAPY == 1, ], \n",
        "                           mtry = allTune$mtry[j], nodesize = allTune$nodesize[j])\n",
        "    \n",
        "    test0 = predict(model0, test)\n",
        "    test1 = predict(model1, test)\n",
        "    \n",
        "    suggest = (test1 > test0)\n",
        "    Error[j, k] = mean(suggest != test$BEST)\n",
        "  }\n",
        "}\n",
        "\n",
        "cbind(allTune, \"Errors\" = rowMeans(Error))"
      ],
      "execution_count": 21,
      "outputs": [
        {
          "output_type": "display_data",
          "data": {
            "text/plain": [
              "  nodesize mtry Errors   \n",
              "1  1        1   0.3189787\n",
              "2  5        1   0.3151064\n",
              "3 10        1   0.3138723\n",
              "4  1        4   0.2883830\n",
              "5  5        4   0.2828511\n",
              "6 10        4   0.2787660\n",
              "7  1       12   0.2770638\n",
              "8  5       12   0.2740851\n",
              "9 10       12   0.2682979"
            ],
            "text/latex": "A data.frame: 9 × 3\n\\begin{tabular}{lll}\n nodesize & mtry & Errors\\\\\n <dbl> & <dbl> & <dbl>\\\\\n\\hline\n\t  1 &  1 & 0.3189787\\\\\n\t  5 &  1 & 0.3151064\\\\\n\t 10 &  1 & 0.3138723\\\\\n\t  1 &  4 & 0.2883830\\\\\n\t  5 &  4 & 0.2828511\\\\\n\t 10 &  4 & 0.2787660\\\\\n\t  1 & 12 & 0.2770638\\\\\n\t  5 & 12 & 0.2740851\\\\\n\t 10 & 12 & 0.2682979\\\\\n\\end{tabular}\n",
            "text/markdown": "\nA data.frame: 9 × 3\n\n| nodesize &lt;dbl&gt; | mtry &lt;dbl&gt; | Errors &lt;dbl&gt; |\n|---|---|---|\n|  1 |  1 | 0.3189787 |\n|  5 |  1 | 0.3151064 |\n| 10 |  1 | 0.3138723 |\n|  1 |  4 | 0.2883830 |\n|  5 |  4 | 0.2828511 |\n| 10 |  4 | 0.2787660 |\n|  1 | 12 | 0.2770638 |\n|  5 | 12 | 0.2740851 |\n| 10 | 12 | 0.2682979 |\n\n",
            "text/html": [
              "<table>\n",
              "<caption>A data.frame: 9 × 3</caption>\n",
              "<thead>\n",
              "\t<tr><th scope=col>nodesize</th><th scope=col>mtry</th><th scope=col>Errors</th></tr>\n",
              "\t<tr><th scope=col>&lt;dbl&gt;</th><th scope=col>&lt;dbl&gt;</th><th scope=col>&lt;dbl&gt;</th></tr>\n",
              "</thead>\n",
              "<tbody>\n",
              "\t<tr><td> 1</td><td> 1</td><td>0.3189787</td></tr>\n",
              "\t<tr><td> 5</td><td> 1</td><td>0.3151064</td></tr>\n",
              "\t<tr><td>10</td><td> 1</td><td>0.3138723</td></tr>\n",
              "\t<tr><td> 1</td><td> 4</td><td>0.2883830</td></tr>\n",
              "\t<tr><td> 5</td><td> 4</td><td>0.2828511</td></tr>\n",
              "\t<tr><td>10</td><td> 4</td><td>0.2787660</td></tr>\n",
              "\t<tr><td> 1</td><td>12</td><td>0.2770638</td></tr>\n",
              "\t<tr><td> 5</td><td>12</td><td>0.2740851</td></tr>\n",
              "\t<tr><td>10</td><td>12</td><td>0.2682979</td></tr>\n",
              "</tbody>\n",
              "</table>\n"
            ]
          },
          "metadata": {
            "tags": []
          }
        }
      ]
    },
    {
      "cell_type": "markdown",
      "metadata": {
        "id": "cBiCm446S8lo",
        "colab_type": "text"
      },
      "source": [
        "It seems larger nodesize and larger mtry is better in this data\n",
        "this is likely because the underlying truth is a simple model (so we don't need small node size to reduce the bias)\n",
        "and it is probably sparse (comparing all mtry variable will give us better chance to find the true one)"
      ]
    },
    {
      "cell_type": "markdown",
      "metadata": {
        "id": "cffJTyRZTFFN",
        "colab_type": "text"
      },
      "source": [
        "# Second Step in Virtual Twins\n",
        "The second step in a virtual twins model is to use a single tree model (CART) to describe the choice of the best treatment. Perform the following: * Based on your optimal tuning parameter, fit the Virtual Twins model described in Question 1. Again, you should not use the BEST variable. * For each subject, obtain the predicted best treatment of the training data itself * Treating the label of best treatment as the outcome, and fit a single tree model to predict it. Be careful which variables should be removed from this model fitting. * Consider tuning the tree model using the cost-complexity tuning.\n",
        "![alt text](https://)"
      ]
    },
    {
      "cell_type": "code",
      "metadata": {
        "id": "rLv9YC7hTOf1",
        "colab_type": "code",
        "colab": {
          "base_uri": "https://localhost:8080/",
          "height": 437
        },
        "outputId": "1c9dfe38-68a6-423a-b87f-aedc29954399"
      },
      "source": [
        "library(rpart)\n",
        "\n",
        "model0 <- randomForest(Health ~ . - BEST, data =  Sepsis[Sepsis$THERAPY == 0, ], mtry = 12, nodesize = 10)\n",
        "model1 <- randomForest(Health ~ . - BEST, data =  Sepsis[Sepsis$THERAPY == 1, ], mtry = 12, nodesize = 10)\n",
        "\n",
        "pred0 = predict(model0, Sepsis)\n",
        "pred1 = predict(model1, Sepsis)\n",
        "\n",
        "Sepsis$FitBest = (pred1 > pred0)\n",
        "\n",
        "rpart.fit = rpart(as.factor(FitBest) ~ . - BEST - Health - THERAPY, data = Sepsis)\n",
        "plotcp(rpart.fit)"
      ],
      "execution_count": 12,
      "outputs": [
        {
          "output_type": "display_data",
          "data": {
            "image/png": "[encoded data removed]",
            "text/plain": [
              "plot without title"
            ]
          },
          "metadata": {
            "tags": [],
            "image/png": {
              "width": 420,
              "height": 420
            },
            "text/plain": {
              "width": 420,
              "height": 420
            }
          }
        }
      ]
    },
    {
      "cell_type": "code",
      "metadata": {
        "id": "hq8E7i0WTWkl",
        "colab_type": "code",
        "colab": {
          "base_uri": "https://localhost:8080/",
          "height": 204
        },
        "outputId": "82ae8373-763f-4235-a03b-651f6f99ea34"
      },
      "source": [
        "rpart.fit$cptable"
      ],
      "execution_count": 13,
      "outputs": [
        {
          "output_type": "display_data",
          "data": {
            "text/plain": [
              "  CP         nsplit rel error xerror    xstd      \n",
              "1 0.43171806  0     1.0000000 1.0000000 0.04772449\n",
              "2 0.06607930  1     0.5682819 0.5682819 0.04261841\n",
              "3 0.06167401  2     0.5022026 0.5859031 0.04301956\n",
              "4 0.03524229  3     0.4405286 0.4977974 0.04081300\n",
              "5 0.02202643  4     0.4052863 0.4449339 0.03922826\n",
              "6 0.01321586  6     0.3612335 0.4713656 0.04004704\n",
              "7 0.01000000 10     0.3083700 0.4361233 0.03894303"
            ],
            "text/latex": "A matrix: 7 × 5 of type dbl\n\\begin{tabular}{r|lllll}\n  & CP & nsplit & rel error & xerror & xstd\\\\\n\\hline\n\t1 & 0.43171806 &  0 & 1.0000000 & 1.0000000 & 0.04772449\\\\\n\t2 & 0.06607930 &  1 & 0.5682819 & 0.5682819 & 0.04261841\\\\\n\t3 & 0.06167401 &  2 & 0.5022026 & 0.5859031 & 0.04301956\\\\\n\t4 & 0.03524229 &  3 & 0.4405286 & 0.4977974 & 0.04081300\\\\\n\t5 & 0.02202643 &  4 & 0.4052863 & 0.4449339 & 0.03922826\\\\\n\t6 & 0.01321586 &  6 & 0.3612335 & 0.4713656 & 0.04004704\\\\\n\t7 & 0.01000000 & 10 & 0.3083700 & 0.4361233 & 0.03894303\\\\\n\\end{tabular}\n",
            "text/markdown": "\nA matrix: 7 × 5 of type dbl\n\n| <!--/--> | CP | nsplit | rel error | xerror | xstd |\n|---|---|---|---|---|---|\n| 1 | 0.43171806 |  0 | 1.0000000 | 1.0000000 | 0.04772449 |\n| 2 | 0.06607930 |  1 | 0.5682819 | 0.5682819 | 0.04261841 |\n| 3 | 0.06167401 |  2 | 0.5022026 | 0.5859031 | 0.04301956 |\n| 4 | 0.03524229 |  3 | 0.4405286 | 0.4977974 | 0.04081300 |\n| 5 | 0.02202643 |  4 | 0.4052863 | 0.4449339 | 0.03922826 |\n| 6 | 0.01321586 |  6 | 0.3612335 | 0.4713656 | 0.04004704 |\n| 7 | 0.01000000 | 10 | 0.3083700 | 0.4361233 | 0.03894303 |\n\n",
            "text/html": [
              "<table>\n",
              "<caption>A matrix: 7 × 5 of type dbl</caption>\n",
              "<thead>\n",
              "\t<tr><th></th><th scope=col>CP</th><th scope=col>nsplit</th><th scope=col>rel error</th><th scope=col>xerror</th><th scope=col>xstd</th></tr>\n",
              "</thead>\n",
              "<tbody>\n",
              "\t<tr><th scope=row>1</th><td>0.43171806</td><td> 0</td><td>1.0000000</td><td>1.0000000</td><td>0.04772449</td></tr>\n",
              "\t<tr><th scope=row>2</th><td>0.06607930</td><td> 1</td><td>0.5682819</td><td>0.5682819</td><td>0.04261841</td></tr>\n",
              "\t<tr><th scope=row>3</th><td>0.06167401</td><td> 2</td><td>0.5022026</td><td>0.5859031</td><td>0.04301956</td></tr>\n",
              "\t<tr><th scope=row>4</th><td>0.03524229</td><td> 3</td><td>0.4405286</td><td>0.4977974</td><td>0.04081300</td></tr>\n",
              "\t<tr><th scope=row>5</th><td>0.02202643</td><td> 4</td><td>0.4052863</td><td>0.4449339</td><td>0.03922826</td></tr>\n",
              "\t<tr><th scope=row>6</th><td>0.01321586</td><td> 6</td><td>0.3612335</td><td>0.4713656</td><td>0.04004704</td></tr>\n",
              "\t<tr><th scope=row>7</th><td>0.01000000</td><td>10</td><td>0.3083700</td><td>0.4361233</td><td>0.03894303</td></tr>\n",
              "</tbody>\n",
              "</table>\n"
            ]
          },
          "metadata": {
            "tags": []
          }
        }
      ]
    },
    {
      "cell_type": "code",
      "metadata": {
        "id": "4yrp-yZ-Tb1h",
        "colab_type": "code",
        "colab": {
          "base_uri": "https://localhost:8080/",
          "height": 323
        },
        "outputId": "53a4ccf8-2624-410f-ba24-54df86b6b76b"
      },
      "source": [
        "prune(rpart.fit, cp = 0.018)"
      ],
      "execution_count": 14,
      "outputs": [
        {
          "output_type": "display_data",
          "data": {
            "text/plain": [
              "n= 470 \n",
              "\n",
              "node), split, n, loss, yval, (yprob)\n",
              "      * denotes terminal node\n",
              "\n",
              " 1) root 470 227 FALSE (0.5170213 0.4829787)  \n",
              "   2) AGE>=51.7395 310  98 FALSE (0.6838710 0.3161290)  \n",
              "     4) PRAPACHE< 25.5 175  23 FALSE (0.8685714 0.1314286) *\n",
              "     5) PRAPACHE>=25.5 135  60 TRUE (0.4444444 0.5555556)  \n",
              "      10) PRAPACHE< 35 94  40 FALSE (0.5744681 0.4255319)  \n",
              "        20) X1< 413.5 86  32 FALSE (0.6279070 0.3720930)  \n",
              "          40) BLLBILI>=1.75 28   4 FALSE (0.8571429 0.1428571) *\n",
              "          41) BLLBILI< 1.75 58  28 FALSE (0.5172414 0.4827586)  \n",
              "            82) TIMFIRST< 23.115 24   6 FALSE (0.7500000 0.2500000) *\n",
              "            83) TIMFIRST>=23.115 34  12 TRUE (0.3529412 0.6470588) *\n",
              "        21) X1>=413.5 8   0 TRUE (0.0000000 1.0000000) *\n",
              "      11) PRAPACHE>=35 41   6 TRUE (0.1463415 0.8536585) *\n",
              "   3) AGE< 51.7395 160  31 TRUE (0.1937500 0.8062500) *"
            ]
          },
          "metadata": {
            "tags": []
          }
        }
      ]
    },
    {
      "cell_type": "code",
      "metadata": {
        "id": "it4Qr50yTgL8",
        "colab_type": "code",
        "colab": {
          "base_uri": "https://localhost:8080/",
          "height": 437
        },
        "outputId": "bc6aa32e-eae1-4d65-dfda-9a55dc9af277"
      },
      "source": [
        "rpart.fit = rpart(as.factor(FitBest) ~ . - BEST - Health - THERAPY, data = Sepsis, cp = 0.018)\n",
        "\n",
        "plot(rpart.fit)\n",
        "text(rpart.fit, use.n = TRUE)"
      ],
      "execution_count": 15,
      "outputs": [
        {
          "output_type": "display_data",
          "data": {
            "image/png": "[encoded data removed]",
            "text/plain": [
              "plot without title"
            ]
          },
          "metadata": {
            "tags": [],
            "image/png": {
              "width": 420,
              "height": 420
            },
            "text/plain": {
              "width": 420,
              "height": 420
            }
          }
        }
      ]
    }
  ]
}