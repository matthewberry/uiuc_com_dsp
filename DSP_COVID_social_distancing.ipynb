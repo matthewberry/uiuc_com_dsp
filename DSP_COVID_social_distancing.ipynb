{
  "nbformat": 4,
  "nbformat_minor": 0,
  "metadata": {
    "kernelspec": {
      "display_name": "Python 3",
      "language": "python",
      "name": "python3"
    },
    "language_info": {
      "codemirror_mode": {
        "name": "ipython",
        "version": 3
      },
      "file_extension": ".py",
      "mimetype": "text/x-python",
      "name": "python",
      "nbconvert_exporter": "python",
      "pygments_lexer": "ipython3",
      "version": "3.6.9"
    },
    "colab": {
      "name": "DSP_COVID_social_distancing.ipynb",
      "provenance": [],
      "include_colab_link": true
    }
  },
  "cells": [
    {
      "cell_type": "markdown",
      "metadata": {
        "id": "view-in-github",
        "colab_type": "text"
      },
      "source": [
        "<a href=\"https://colab.research.google.com/github/matthewberry/uiuc_com_dsp/blob/master/DSP_COVID_social_distancing.ipynb\" target=\"_parent\"><img src=\"https://colab.research.google.com/assets/colab-badge.svg\" alt=\"Open In Colab\"/></a>"
      ]
    },
    {
      "cell_type": "markdown",
      "metadata": {
        "id": "IDSFAvXmWbZ4",
        "colab_type": "text"
      },
      "source": [
        "*This notebook is derived from [work](https://github.com/transentis/sim-covid-19) published by [Transentis Consulting](https://www.transentis.com/resources/case-studies/covid-19-simulation/).*"
      ]
    },
    {
      "cell_type": "markdown",
      "metadata": {
        "id": "-mc_cd43HU_Q",
        "colab_type": "text"
      },
      "source": [
        "# COVID-19 Simulation\n",
        "\n",
        "Whenever you need to make predictions about complex situations you have little prior experience with, models and simulations are a good starting point to explore the situations, test your assumptions, design strategies to deal with the situation and make qualitative and quantitative predictions.\n",
        "\n",
        "This notebook contains such a simulation of the COVID-19 pandemic. Though it is deliberately kept simple to ensure that users understand the underlying model and assumptions, it already is useful in allowing you to explore the implication of social distancing strategies. We have also published an interactive dashboard based on the simulation on [covid-sim.com](http://www.covid-sim.com), which you can experiment with directly.\n",
        "\n",
        "The underlying model is an implementation of the [SIR model](https://en.wikipedia.org/wiki/Compartmental_models_in_epidemiology#The_SIR_model), which was developed in 1927 by Kermack and McKendrick to model the spreading of epidemics."
      ]
    },
    {
      "cell_type": "markdown",
      "metadata": {
        "id": "XsCbla6gHU_R",
        "colab_type": "text"
      },
      "source": [
        "![Image](https://github.com/transentis/sim-covid-19/blob/master/images/sir_model.png?raw=1)"
      ]
    },
    {
      "cell_type": "markdown",
      "metadata": {
        "id": "BgeabjQBHU_S",
        "colab_type": "text"
      },
      "source": [
        "The SIR model is illustrated above using a System Dynamics stock and flow diagram - it is easy to understand, even if you haven't encountered stock and flow diagrams before:\n",
        "\n",
        "Essentially the population consists of those who are susceptible to becoming infected, those who are currently infectious and those who have recovered.\n",
        "\n",
        "Susceptible people can become infected at a rate defined by the infection rate and infectious people recover at a rate defined by the recovery rate and die at a rate defined by the death rate.\n",
        "\n",
        "People can only become infected through contact with infectious people, hence the infection rate depends on the number of infectious people, the contact rate (i.e., how many people a person meets every day) and on the infectivity (i.e., how likely it is that you will become infected if you meet an infectious person).\n",
        "\n",
        "The recovery rate just depends on time.\n",
        "\n"
      ]
    },
    {
      "cell_type": "markdown",
      "metadata": {
        "id": "Tz2pZMGPHU_U",
        "colab_type": "text"
      },
      "source": [
        "The model in this notebook is roughly calibrated to the situation in Germany as of March 27, 2020. It illustrates the effects of social distancing in achieving the objective of minimizing the strain on the healthcare system.\n",
        "\n",
        "__Assumptions:__\n",
        "\n",
        "* __Contact Rate.__ Defines how many people a person encounters per day in average. We assume this is 20 people in the base case.\n",
        "* __Infectivity.__ Defines the probability that a person becomes infected after contact with an infectious person. We assume this is 2% in the base case.\n",
        "* __Duration.__ Defines how long an infective person remains contagious. We assume the duration is 20 days in the base case.\n",
        "* __Population.__ The susceptible population starts at 80,000,000, and the infectious population starts at 120.\n",
        "* __Intensive Care Needed.__ Measures the number of infected people who need intensive care, set to 2% in the base case.\n",
        "* __Intensive Care Available.__ The number of intensive care units available, set to 30,000 in the base case.\n",
        "\n",
        "With the above settings, we have a contact number of 8 in the base settings. The contact number is the product of contact rate, infectivity and duration."
      ]
    },
    {
      "cell_type": "markdown",
      "metadata": {
        "id": "MFsPLIk3HU_V",
        "colab_type": "text"
      },
      "source": [
        "## System Dynamics Model\n",
        "\n",
        "Now let's take a look at the model in more detail. The SIR model will be implemented in System Dynamics using the [BPTK-Py](http://bptk.transentis-labs.com) framework.\n",
        "\n",
        "Best practice is to define all the model variables first and then to define the model equations using these variables."
      ]
    },
    {
      "cell_type": "code",
      "metadata": {
        "id": "07JmZUZ_HU_V",
        "colab_type": "code",
        "colab": {}
      },
      "source": [
        "!pip install BPTK-Py==1.1.12\n",
        "from BPTK_Py import Model\n",
        "from BPTK_Py import sd_functions as sd\n",
        "\n",
        "model = Model(starttime=1.0,stoptime=1500.0,dt=1.0,name='sir')"
      ],
      "execution_count": null,
      "outputs": []
    },
    {
      "cell_type": "markdown",
      "metadata": {
        "id": "WsfcCRvVHU_p",
        "colab_type": "text"
      },
      "source": [
        "### Model Variables\n",
        "\n",
        "Next we define all the model variables. We will set their actual values and their equations in the equation section. "
      ]
    },
    {
      "cell_type": "markdown",
      "metadata": {
        "id": "zM7m7wj0HU_s",
        "colab_type": "text"
      },
      "source": [
        "#### Stocks\n",
        "\n",
        "The model only has four stocks, as explained above:"
      ]
    },
    {
      "cell_type": "code",
      "metadata": {
        "id": "kQ4hrckPHU_v",
        "colab_type": "code",
        "colab": {}
      },
      "source": [
        "susceptible = model.stock(\"susceptible\")  # those who have not been infected yet\n",
        "infectious = model.stock(\"infectious\") # those who are currently carrying an infection\n",
        "recovered = model.stock(\"recovered\") # those who have recovered from an infection\n",
        "deceased = model.stock(\"deceased\") # those who have died from an infection"
      ],
      "execution_count": null,
      "outputs": []
    },
    {
      "cell_type": "markdown",
      "metadata": {
        "id": "wPd-QiUVHU_0",
        "colab_type": "text"
      },
      "source": [
        "### Flows\n",
        "\n",
        "Here are the flows discussed above:"
      ]
    },
    {
      "cell_type": "code",
      "metadata": {
        "id": "nywyFlgiHU_1",
        "colab_type": "code",
        "colab": {}
      },
      "source": [
        "infection_rate = model.flow(\"infection_rate\") # the rate at which people are becoming infected\n",
        "recovery_rate = model.flow(\"recovery_rate\") # the rate at which people are recovering from an infection\n",
        "death_rate = model.flow(\"death_rate\") # the rate at which people are dying from an infection"
      ],
      "execution_count": null,
      "outputs": []
    },
    {
      "cell_type": "markdown",
      "metadata": {
        "id": "drUvvQVoHU_4",
        "colab_type": "text"
      },
      "source": [
        "### Constants"
      ]
    },
    {
      "cell_type": "markdown",
      "metadata": {
        "id": "8JK5IbF2HU_8",
        "colab_type": "text"
      },
      "source": [
        "The key parameters of the SIR model:"
      ]
    },
    {
      "cell_type": "code",
      "metadata": {
        "id": "k_G75y6aHU_9",
        "colab_type": "code",
        "colab": {}
      },
      "source": [
        "infectivity = model.constant(\"infectivity\") # the infectivity of the virus\n",
        "lethality = model.constant(\"lethality\") # the lethality of the virus\n",
        "normal_contact_rate=model.constant(\"normal_contact_rate\") # the average contact rate between people in \"normal\" times\n",
        "duration = model.constant(\"duration\") # the average time it takes to recover from the virus"
      ],
      "execution_count": null,
      "outputs": []
    },
    {
      "cell_type": "markdown",
      "metadata": {
        "id": "nTSnn2vqHVAB",
        "colab_type": "text"
      },
      "source": [
        "The following parameters are used to model the strain on the health care system and in particular the intensive care units:"
      ]
    },
    {
      "cell_type": "code",
      "metadata": {
        "id": "K2YkDRXDHVAB",
        "colab_type": "code",
        "colab": {}
      },
      "source": [
        "intensive_available = model.constant(\"intensive_available\") # the number of intensive care units available\n",
        "intensive_percentage = model.constant(\"intensive_percentage\") # the fraction of people needing intensive care"
      ],
      "execution_count": null,
      "outputs": []
    },
    {
      "cell_type": "markdown",
      "metadata": {
        "id": "fX12A2YcHVAF",
        "colab_type": "text"
      },
      "source": [
        "We also define a few variables that we use in the interactive dashboard presented below:"
      ]
    },
    {
      "cell_type": "code",
      "metadata": {
        "id": "KZzYpMXMHVAG",
        "colab_type": "code",
        "colab": {}
      },
      "source": [
        "dashboard_on=model.constant(\"dashboard_on\") # should be equal to 1.0 for dashboard scenario and 0.0 otherwise\n",
        "distancing_on=model.constant(\"distancing_on\") # defines whether social distancing is on within an interactive scenario\n",
        "distancing_contact_rate=model.constant(\"distancing_contact_rate\") # interactive scenario: the contact rate when practicing social distancing\n",
        "distancing_begin=model.constant(\"distancing_begin\") # interactive scenario: when to begin social distancing\n",
        "distancing_duration=model.constant(\"distancing_duration\")# interactive scenario: when social distancing ends and we return to normal behavior"
      ],
      "execution_count": null,
      "outputs": []
    },
    {
      "cell_type": "markdown",
      "metadata": {
        "id": "go4rphC2HVAJ",
        "colab_type": "text"
      },
      "source": [
        "### Converters"
      ]
    },
    {
      "cell_type": "markdown",
      "metadata": {
        "id": "Ix2Gh6ZSHVAJ",
        "colab_type": "text"
      },
      "source": [
        "The model doesn't need many converters, the only ones that are essential to the model are the total population and the contact rate:"
      ]
    },
    {
      "cell_type": "code",
      "metadata": {
        "id": "HNhIzIZCHVAK",
        "colab_type": "code",
        "colab": {}
      },
      "source": [
        "total_population = model.converter(\"total_population\") # the total population, i.e the sum of susceptible, infected, and recovered\n",
        "contact_rate = model.converter(\"contact_rate\") # the rate at which people are being contacted, in all scenarios"
      ],
      "execution_count": null,
      "outputs": []
    },
    {
      "cell_type": "markdown",
      "metadata": {
        "id": "ZI20b9V0HVAM",
        "colab_type": "text"
      },
      "source": [
        "To calculate the strain on the health care system we need to work out the number of intensive care units needed:"
      ]
    },
    {
      "cell_type": "code",
      "metadata": {
        "id": "e-312eT1HVAN",
        "colab_type": "code",
        "colab": {}
      },
      "source": [
        "intensive_needed = model.converter(\"intensive_needed\") # the number of intensive care units needed at any time"
      ],
      "execution_count": null,
      "outputs": []
    },
    {
      "cell_type": "markdown",
      "metadata": {
        "id": "GVt4RsvJHVAQ",
        "colab_type": "text"
      },
      "source": [
        "Converters needed to calculate the key indicators:"
      ]
    },
    {
      "cell_type": "code",
      "metadata": {
        "id": "UPJBhNL1HVAR",
        "colab_type": "code",
        "colab": {}
      },
      "source": [
        "contact_number = model.converter(\"contact_number\") #  measures which fraction of a susceptible population is infected by a contagious person\n",
        "reproduction_rate = model.converter(\"reproduction_rate\") # measures the rate at which an epidemic reproduces"
      ],
      "execution_count": null,
      "outputs": []
    },
    {
      "cell_type": "markdown",
      "metadata": {
        "id": "Nf0axPYsHVAj",
        "colab_type": "text"
      },
      "source": [
        "We also need a few converters to deal with the different contact rates we use in the dashboard scenarios and detailed scenarios:"
      ]
    },
    {
      "cell_type": "code",
      "metadata": {
        "id": "NVFw5W0THVAk",
        "colab_type": "code",
        "colab": {}
      },
      "source": [
        "variable_contact_rate = model.converter(\"variable_contact_rate\") # the variable contact rate used in the detailed scenarios\n",
        "dashboard_with_distancing_contact_rate = model.converter(\"dashboard_with_distancing_contact_rate\") # the contact rate used in interactive scenarios with distancing on\n",
        "dashboard_contact_rate = model.converter(\"dashboard_contact_rate\") # the contact rate used in interactive scenarios with distancing off"
      ],
      "execution_count": null,
      "outputs": []
    },
    {
      "cell_type": "markdown",
      "metadata": {
        "id": "hGVnfnM6HVAn",
        "colab_type": "text"
      },
      "source": [
        "### Model Equations"
      ]
    },
    {
      "cell_type": "markdown",
      "metadata": {
        "id": "BOGpQNlzHVAq",
        "colab_type": "text"
      },
      "source": [
        "The key part of any System Dynamics model is the equations. Let's take some time to investigate these."
      ]
    },
    {
      "cell_type": "markdown",
      "metadata": {
        "id": "WtzclUnXHVAq",
        "colab_type": "text"
      },
      "source": [
        "We start with an initial value of 80,000,000 people for the `susceptible` stock (i.e. roughly the German population) and assume we have 120 infected people."
      ]
    },
    {
      "cell_type": "code",
      "metadata": {
        "id": "xVGsd0bdHVAr",
        "colab_type": "code",
        "colab": {}
      },
      "source": [
        "susceptible.initial_value = 80000000.0\n",
        "infectious.initial_value = 120.0\n",
        "recovered.initial_value = 0.0\n",
        "deceased.initial_value = 0.0"
      ],
      "execution_count": null,
      "outputs": []
    },
    {
      "cell_type": "markdown",
      "metadata": {
        "id": "h-SyvX28HVA5",
        "colab_type": "text"
      },
      "source": [
        "The settings for infectivity, lethality, and the contact rate are the key settings that determine how quickly the epidemic spreads within the population.\n",
        "\n",
        "We had to make some educated guesses here, as the true infectivity and lethality are currently not known.\n",
        "\n",
        "Given the growth rate we saw in Germany with a doubling every two days and assuming that each person has 20 contacts per day on average (under normal circumstances, i.e., without social distancing), this resulted in the assumption of an infectivity of 0.02.\n",
        "\n",
        "We assume it takes 20 days to recover from the virus and that the lethality is 0.001."
      ]
    },
    {
      "cell_type": "code",
      "metadata": {
        "id": "_WA9nMYpHVA6",
        "colab_type": "code",
        "colab": {}
      },
      "source": [
        "infectivity.equation = 0.02\n",
        "duration.equation = 20.0\n",
        "lethality.equation = 0.001"
      ],
      "execution_count": null,
      "outputs": []
    },
    {
      "cell_type": "markdown",
      "metadata": {
        "id": "bFdsodoEHVBM",
        "colab_type": "text"
      },
      "source": [
        "In Germany, there are around 30,000 intensive care units and current data show that about 0.2% of the infected need intensive care. The intensive care units needed are simply the infectious multiplied by that percentage."
      ]
    },
    {
      "cell_type": "code",
      "metadata": {
        "id": "9XsrmTlxHVBO",
        "colab_type": "code",
        "colab": {}
      },
      "source": [
        "intensive_percentage.equation = 0.002\n",
        "intensive_available.equation = 30000.0\n",
        "intensive_needed.equation = infectious*intensive_percentage"
      ],
      "execution_count": null,
      "outputs": []
    },
    {
      "cell_type": "markdown",
      "metadata": {
        "id": "uwpkI6g_HVBT",
        "colab_type": "text"
      },
      "source": [
        "The equations for the stock are easy to define:\n",
        "\n",
        "* The susceptible population has an outflow defined by the infection rate.\n",
        "* The infectious population increases through the infection rate and is depleted by the recovery rate and death rate.\n",
        "* The recovered population increases by the recovery rate. The model assumes that reinfection does not happen.\n",
        "* The deceased population increases by the death rate."
      ]
    },
    {
      "cell_type": "code",
      "metadata": {
        "id": "KjT6pv92HVBV",
        "colab_type": "code",
        "colab": {}
      },
      "source": [
        "susceptible.equation = -infection_rate\n",
        "infectious.equation = infection_rate - recovery_rate - death_rate\n",
        "recovered.equation = recovery_rate\n",
        "deceased.equation = death_rate"
      ],
      "execution_count": null,
      "outputs": []
    },
    {
      "cell_type": "markdown",
      "metadata": {
        "id": "s1uJ9fZEHVBY",
        "colab_type": "text"
      },
      "source": [
        "The total population decreases slowly according to the death rate. Note that the model only includes deaths for those that die of COVID-19. It also does not consider births."
      ]
    },
    {
      "cell_type": "code",
      "metadata": {
        "id": "ig21miDTHVBZ",
        "colab_type": "code",
        "colab": {}
      },
      "source": [
        "total_population.equation = susceptible+infectious+recovered"
      ],
      "execution_count": null,
      "outputs": []
    },
    {
      "cell_type": "markdown",
      "metadata": {
        "id": "sWoNM_83HVBc",
        "colab_type": "text"
      },
      "source": [
        "Here are the key equations of the SIR model defining the underlying dynamics: the infection rate, recovery rate, and death rate.\n",
        "\n",
        "Essentially, infection rate equals the number of infectious people multiplied by the contact rate. This defines how many people come into contact with the virus every day through infected people. But we need to take into account that not every one of these people becomes infected, so we multiply this number by the infectivity. We also need to consider that some people who come into contact with infected people may be infected themselves, hence we multiply by the fraction of susceptible people. This leads to the following equation for  the infection rate:"
      ]
    },
    {
      "cell_type": "code",
      "metadata": {
        "id": "qzmnWmhcHVBc",
        "colab_type": "code",
        "colab": {}
      },
      "source": [
        "infection_rate.equation = (contact_rate*infectivity*infectious)*(susceptible/total_population)"
      ],
      "execution_count": null,
      "outputs": []
    },
    {
      "cell_type": "markdown",
      "metadata": {
        "id": "tb_Vvi4JHVBh",
        "colab_type": "text"
      },
      "source": [
        "The recovery rate is equal to the number of infectious people divided by the duration: not all people recover at the same time, the number of infectious people declines exponentially."
      ]
    },
    {
      "cell_type": "code",
      "metadata": {
        "id": "FkHlCCglHVBj",
        "colab_type": "code",
        "colab": {}
      },
      "source": [
        "recovery_rate.equation = infectious/duration"
      ],
      "execution_count": null,
      "outputs": []
    },
    {
      "cell_type": "markdown",
      "metadata": {
        "id": "RcMak2iRHVBm",
        "colab_type": "text"
      },
      "source": [
        "The death rate is defined as the number of infectious people multiplied by the lethality."
      ]
    },
    {
      "cell_type": "code",
      "metadata": {
        "id": "yhPn1vZtHVBm",
        "colab_type": "code",
        "colab": {}
      },
      "source": [
        "death_rate.equation = infectious*lethality"
      ],
      "execution_count": null,
      "outputs": []
    },
    {
      "cell_type": "markdown",
      "metadata": {
        "id": "vVMfLaK8HVBp",
        "colab_type": "text"
      },
      "source": [
        "Here are the equations for two important indicators of any epidemic, the contact number and the reproduction rate. The contact number is an indicator of how many people an infected person could infect before recovering, i.e., the product of contact rate, infectivity and duration. The reproduction rate is equal to the contact rate multiplied by the fraction of susceptible people."
      ]
    },
    {
      "cell_type": "code",
      "metadata": {
        "id": "7SbH4lkkHVBp",
        "colab_type": "code",
        "colab": {}
      },
      "source": [
        "contact_number.equation = contact_rate*infectivity*duration\n",
        "reproduction_rate.equation = contact_number*(susceptible/total_population)"
      ],
      "execution_count": null,
      "outputs": []
    },
    {
      "cell_type": "markdown",
      "metadata": {
        "id": "3e7ulqdBHVB2",
        "colab_type": "text"
      },
      "source": [
        "The equations above are almost all you need to simulate the SIR model. All that is missing is a value for the contact rate. In the basic SIR model the contact rate is simply a constant value, and we assume that the average contact rate is 20 for the base settings. Let's quickly test this, to see whether the model is working:"
      ]
    },
    {
      "cell_type": "code",
      "metadata": {
        "id": "UR0Mc0iGHVB4",
        "colab_type": "code",
        "colab": {}
      },
      "source": [
        "contact_rate.equation = 20"
      ],
      "execution_count": null,
      "outputs": []
    },
    {
      "cell_type": "markdown",
      "metadata": {
        "id": "Qx4LzufaHVB9",
        "colab_type": "text"
      },
      "source": [
        "Now we can evaluate any variable in the model. e.g. the infectious population:"
      ]
    },
    {
      "cell_type": "code",
      "metadata": {
        "id": "4Tt3P3hUHVB-",
        "colab_type": "code",
        "colab": {}
      },
      "source": [
        "infectious.plot()"
      ],
      "execution_count": null,
      "outputs": []
    },
    {
      "cell_type": "markdown",
      "metadata": {
        "id": "hSZ3o_dQHVCB",
        "colab_type": "text"
      },
      "source": [
        "But obviously we would like to test some social distancing scenarios, so we need to model the contact rate in a slightly more flexible way.\n",
        "\n",
        "First of all, we need to be able to differentiate between interactive scenarios within a dashboard, such as the one presented below, and static scenarios that we define for detailed analysis.\n",
        "\n",
        "Within the dashboard scenario, we want to differentiate between simple scenarios with a constant contact rate (as in the base SIR model) and one where the user can set the normal contact rate and the social distancing contact rate, the time when the population switches from the normal contact rate to social distancing, and how long social distancing is maintained.\n",
        "\n",
        "The static scenarios will allow us to set a different value for the contact rate every day, using a lookup table, so that we can test a wide variety of scenarios.\n",
        "\n",
        "This leads to the following equations for the contact rate:"
      ]
    },
    {
      "cell_type": "code",
      "metadata": {
        "id": "h83Acxt7HVCB",
        "colab_type": "code",
        "colab": {}
      },
      "source": [
        "contact_rate.equation = dashboard_on*dashboard_contact_rate+(-dashboard_on+1.0)*variable_contact_rate\n",
        "dashboard_on.equation = 1.0\n",
        "distancing_on.equation = 0.0\n",
        "dashboard_contact_rate.equation = distancing_on*dashboard_with_distancing_contact_rate+(-distancing_on+1.0)*normal_contact_rate\n",
        "dashboard_with_distancing_contact_rate.equation = sd.If(sd.Or(sd.time()<distancing_begin,sd.time()>distancing_begin+distancing_duration),normal_contact_rate,distancing_contact_rate)\n",
        "normal_contact_rate.equation = 20.0\n",
        "distancing_contact_rate.equation = 2.0\n",
        "distancing_begin.equation = 20.0\n",
        "distancing_duration.equation = 200.0"
      ],
      "execution_count": null,
      "outputs": []
    },
    {
      "cell_type": "markdown",
      "metadata": {
        "id": "8X_TcIjEHVCF",
        "colab_type": "text"
      },
      "source": [
        "Set the lookup function for the contact rate. For the base case, we will set all points to 20, i.e., we only need to define two points in the lookup table:"
      ]
    },
    {
      "cell_type": "code",
      "metadata": {
        "id": "LSdRCfQhHVCG",
        "colab_type": "code",
        "colab": {}
      },
      "source": [
        "variable_contact_rate.equation = sd.lookup(sd.time(),\"variable_contact_rate\")"
      ],
      "execution_count": null,
      "outputs": []
    },
    {
      "cell_type": "code",
      "metadata": {
        "id": "mTjtf4amHVCJ",
        "colab_type": "code",
        "colab": {}
      },
      "source": [
        "variable_contact_rate_points = [[0,20.0],[1500,20.0]]"
      ],
      "execution_count": null,
      "outputs": []
    },
    {
      "cell_type": "code",
      "metadata": {
        "id": "-e10FraNHVCM",
        "colab_type": "code",
        "colab": {}
      },
      "source": [
        "model.points[\"variable_contact_rate\"] = variable_contact_rate_points"
      ],
      "execution_count": null,
      "outputs": []
    },
    {
      "cell_type": "markdown",
      "metadata": {
        "id": "5GsfMM5wHVCP",
        "colab_type": "text"
      },
      "source": [
        "## Simulation Dashboard"
      ]
    },
    {
      "cell_type": "markdown",
      "metadata": {
        "id": "RhEVklyyHVCQ",
        "colab_type": "text"
      },
      "source": [
        "The simulation dashboard at [covid-sim.com](http://www.covid-sim.com) lets you experiment with different settings for the contact rate and more sophisticated social distancing scenarios. Try simulating a few scenarios of your own before reading on about several scenarios we have analyzed in more detail."
      ]
    },
    {
      "cell_type": "markdown",
      "metadata": {
        "id": "QyhpvTwbHVCR",
        "colab_type": "text"
      },
      "source": [
        "See if you can find a scenario that keeps the number of intensive care units needed below the number of units available.\n",
        "\n",
        "What difference does it make to set the number of contacts to 0 instead of setting it to a small number?"
      ]
    },
    {
      "cell_type": "markdown",
      "metadata": {
        "id": "syeo-uZkHVCh",
        "colab_type": "text"
      },
      "source": [
        "## Scenarios\n",
        "\n",
        "Now that we have a simulation with the necessary parameters, we can experiment with different scenarios to see what effect social distancing will have and how long it might take before we can get back to a normal situation.\n",
        "\n",
        "So far we have investigated four scenarios:\n",
        "\n",
        "* __Base Case.__ In this case we don't change our social behavior and continue as before. The coronavirus spreads very quickly, leading to a very high demand on the healthcare system.\n",
        "* __Slow social distancing.__ In this case we try to reduce the speed at which the virus spreads by slowly introducing social distancing. The simulation shows that this hardly has any effect, i.e., the measures taken in Germany to introduce rapid social distancing were right.\n",
        "* __Rapid social distancing, long-term.__ In this case we introduce rapid social distancing measures and leave them in place for quite some time. The simulation shows that we manage to slow the spread of the virus sufficiently to keep the strain on the health care system low. But unfortunately the measures also take quite some time.\n",
        "* __Rapid social distancing, short-term.__ In this case we introduce rapid social distancing measures, but ease them very quickly. Unfortunately the simulation shows that this doesn't work - we only manage to move the peak into the future. So unless we manage to come up with other measures such as a vaccine, this strategy will not help."
      ]
    },
    {
      "cell_type": "code",
      "metadata": {
        "id": "K1-rGgV49ETO",
        "colab_type": "code",
        "colab": {}
      },
      "source": [
        "import BPTK_Py\n",
        "import pandas as pd\n",
        "bptk = BPTK_Py.bptk()\n",
        "bptk.register_model(model)\n",
        "bptk.register_scenarios(\n",
        "    scenarios ={\n",
        "        \"base\": {},\n",
        "        \"weakSocialDistancing\": {},\n",
        "        \"strongSocialDistancing\": {},\n",
        "        \"shortTermMeasures\": {},\n",
        "        \"dashboard\":{}\n",
        "    },\n",
        "    scenario_manager=\"smSir\")"
      ],
      "execution_count": null,
      "outputs": []
    },
    {
      "cell_type": "markdown",
      "metadata": {
        "id": "jYJjtldnHVCh",
        "colab_type": "text"
      },
      "source": [
        "### Base Case"
      ]
    },
    {
      "cell_type": "markdown",
      "metadata": {
        "id": "n9HVyrLSHVCi",
        "colab_type": "text"
      },
      "source": [
        "The base case describes the numbers in Germany and demonstrates what will happen if no measures are taken."
      ]
    },
    {
      "cell_type": "code",
      "metadata": {
        "id": "4lEh6sfRHVCk",
        "colab_type": "code",
        "colab": {}
      },
      "source": [
        "scenario_base = bptk.get_scenario(\"smSir\",\"base\")\n",
        "scenario_base.constants[\"interactive_on\"] = 0.0\n",
        "bptk.reset_simulation_model(scenario_manager=\"smSir\", scenario=\"base\")"
      ],
      "execution_count": null,
      "outputs": []
    },
    {
      "cell_type": "code",
      "metadata": {
        "id": "LQQZpkYKHVCs",
        "colab_type": "code",
        "colab": {}
      },
      "source": [
        "bptk.plot_scenarios(\n",
        "    scenario_managers=[\"smSir\"],\n",
        "    scenarios=[\"base\"],\n",
        "    title=\"Base Case: Contact Rate\",\n",
        "    x_label=\"Days\",\n",
        "    y_label=\"Persons\",\n",
        "    equations=[\"contact_rate\"],\n",
        "    visualize_to_period=300,\n",
        "    series_names={\n",
        "        \"smSir_base_contact_rate\" : \"Contact Rate\"\n",
        "    }\n",
        ")"
      ],
      "execution_count": null,
      "outputs": []
    },
    {
      "cell_type": "markdown",
      "metadata": {
        "id": "FR4tgOQyHVCy",
        "colab_type": "text"
      },
      "source": [
        "Without any measures the numbers lead to explosive exponential growth as shown in the graph above. The graph below zooms in on the first 25 days. The exponential growth is already visible and the numbers match the situation in Germany well."
      ]
    },
    {
      "cell_type": "code",
      "metadata": {
        "id": "csSEAS-6HVCz",
        "colab_type": "code",
        "colab": {}
      },
      "source": [
        "bptk.plot_scenarios(\n",
        "    scenario_managers=[\"smSir\"],\n",
        "    scenarios=[\"base\"],\n",
        "    title=\"Base Case: Recovered Population vs. Deaths\",\n",
        "    x_label=\"Days\",\n",
        "    y_label=\"Persons\",\n",
        "    equations=[\"infectious\",\"recovered\",\"deceased\"],\n",
        "    visualize_to_period=300,\n",
        "    series_names={\n",
        "        \"smSir_base_infectious\" : \"Infectious Population\",\n",
        "        \"smSir_base_recovered\" : \"Recovered Population\",\n",
        "        \"smSir_base_deceased\": \"Deceased\"\n",
        "    }\n",
        ")"
      ],
      "execution_count": null,
      "outputs": []
    },
    {
      "cell_type": "markdown",
      "metadata": {
        "id": "rhmdhVH8HVC1",
        "colab_type": "text"
      },
      "source": [
        "A closer look at the first 25 days shows the model matches the situation in Germany quite well."
      ]
    },
    {
      "cell_type": "code",
      "metadata": {
        "id": "2OKAhEFKHVC1",
        "colab_type": "code",
        "colab": {}
      },
      "source": [
        "bptk.plot_scenarios(\n",
        "    scenario_managers=[\"smSir\"],\n",
        "    scenarios=[\"base\"],\n",
        "    title=\"Base Case: Recovered Population vs. Deaths First 25 Days\",\n",
        "    x_label=\"Days\",\n",
        "    y_label=\"Persons\",\n",
        "    equations=[\"infectious\",\"recovered\",\"deceased\"],\n",
        "    series_names={\n",
        "        \"smSir_base_infectious\" : \"Infectious Population\",\n",
        "        \"smSir_base_recovered\" : \"Recovered Population\",\n",
        "        \"smSir_base_deceased\": \"Deceased\"\n",
        "    },\n",
        "    visualize_from_period=0,\n",
        "    visualize_to_period=25\n",
        ")"
      ],
      "execution_count": null,
      "outputs": []
    },
    {
      "cell_type": "markdown",
      "metadata": {
        "id": "U-wFqjSNHVC9",
        "colab_type": "text"
      },
      "source": [
        "Unfortunately, this scenario illustrates well that there are not enough intensive care units available if the epidemic is left to grow without countermeasures."
      ]
    },
    {
      "cell_type": "code",
      "metadata": {
        "id": "9VVeRZKyHVC9",
        "colab_type": "code",
        "colab": {}
      },
      "source": [
        "bptk.plot_scenarios(\n",
        "    scenario_managers=[\"smSir\"],\n",
        "    scenarios=[\"base\"],\n",
        "    title=\"Base Case: Intensive Care\",\n",
        "    x_label=\"Days\",\n",
        "    y_label=\"Units\",\n",
        "    equations=[\"intensive_needed\",\"intensive_available\"],\n",
        "    series_names={\n",
        "        \"smSir_base_intensive_needed\" : \"Intensive Care Needed\",\n",
        "        \"smSir_base_intensive_available\" : \"Intensive Care Available\"  \n",
        "    },\n",
        "    visualize_to_period=300\n",
        ")"
      ],
      "execution_count": null,
      "outputs": []
    },
    {
      "cell_type": "markdown",
      "metadata": {
        "id": "yjkGTVP9HVDC",
        "colab_type": "text"
      },
      "source": [
        "### Reducing Spread of the Virus"
      ]
    },
    {
      "cell_type": "markdown",
      "metadata": {
        "id": "nH1cDSbcHVDC",
        "colab_type": "text"
      },
      "source": [
        "How can we reduce the impact of the epidemic? The key parameters that influence the magnitude of the epidemic are the contact rate and the infectivity. \n",
        "\n",
        "We can imagine various ways to influence these parameters. For example, one way to reduce the infectivity would be to immunize the population with a vaccine.\n",
        "\n",
        "For this simulation, let's change just the contact rate by introducing social distancing."
      ]
    },
    {
      "cell_type": "markdown",
      "metadata": {
        "id": "yD0yRfN4HVDD",
        "colab_type": "text"
      },
      "source": [
        "#### Weak Social Distancing"
      ]
    },
    {
      "cell_type": "markdown",
      "metadata": {
        "id": "WY9tMNdbHVDE",
        "colab_type": "text"
      },
      "source": [
        "In this scenario we investigate what happens if we reduce the contact rate in a very slow manner."
      ]
    },
    {
      "cell_type": "code",
      "metadata": {
        "id": "1Bnr_B8aHVDE",
        "colab_type": "code",
        "colab": {}
      },
      "source": [
        "points_list_large = []\n",
        "contact_large = normal_contact_rate(0)\n",
        "for t in range(int(model.stoptime)):\n",
        "    if t%40==0 and t!=0 and t < 365:\n",
        "        contact_large = contact_large - 2\n",
        "    if t == 600:\n",
        "        contact_large = 6\n",
        "    if t == 700:\n",
        "        contact_large = 10\n",
        "    if t == 800:\n",
        "        contact_large = 14\n",
        "    if t == 900:\n",
        "        contact_large = 20\n",
        "    points_list_large.append((t,contact_large))"
      ],
      "execution_count": null,
      "outputs": []
    },
    {
      "cell_type": "code",
      "metadata": {
        "id": "F3n27bjKHVDN",
        "colab_type": "code",
        "colab": {}
      },
      "source": [
        "scenario_weak = bptk.get_scenario(\"smSir\",\"weakSocialDistancing\")\n",
        "scenario_weak.constants[\"dashboard_on\"] = 0.0\n",
        "scenario_weak.points[\"variable_contact_rate\"] = points_list_large\n",
        "bptk.reset_simulation_model(scenario_manager=\"smSir\", scenario=\"weakSocialDistancing\") #reset the simulation model to ensure it takes on the new settings"
      ],
      "execution_count": null,
      "outputs": []
    },
    {
      "cell_type": "code",
      "metadata": {
        "id": "UeF_f0ADHVDQ",
        "colab_type": "code",
        "colab": {}
      },
      "source": [
        "bptk.plot_scenarios(\n",
        "    scenario_managers=[\"smSir\"],\n",
        "    scenarios=[\"weakSocialDistancing\"],\n",
        "    title=\"Weak Social Distancing: Contact Rate\",\n",
        "    x_label=\"Days\",\n",
        "    y_label=\"Persons\",\n",
        "    equations=[\"contact_rate\"],\n",
        "    series_names={\n",
        "        \"smSir_weakSocialDistancing_contact_rate\" : \"Contact Rate\"\n",
        "    }\n",
        ")"
      ],
      "execution_count": null,
      "outputs": []
    },
    {
      "cell_type": "markdown",
      "metadata": {
        "id": "gsk1W-5RHVDU",
        "colab_type": "text"
      },
      "source": [
        "It is easy to see this will not help at all:"
      ]
    },
    {
      "cell_type": "code",
      "metadata": {
        "id": "aq3d16A6HVDV",
        "colab_type": "code",
        "colab": {}
      },
      "source": [
        "bptk.plot_scenarios(\n",
        "    scenario_managers=[\"smSir\"],\n",
        "    scenarios=[\"weakSocialDistancing\"],\n",
        "    title=\"Weak Social Distancing: Recovered Population vs. Deaths\",\n",
        "    x_label=\"Days\",\n",
        "    y_label=\"Persons\",\n",
        "    equations=[\"infectious\",\"recovered\",\"deceased\"],\n",
        "    series_names={\n",
        "        \"smSir_weakSocialDistancing_infectious\" : \"Infectious Population\",\n",
        "        \"smSir_weakSocialDistancing_recovered\" : \"Recovered Population\",\n",
        "        \"smSir_weakSocialDistancing_deceased\": \"Deceased\"\n",
        "    },\n",
        "    visualize_to_period=300\n",
        ")"
      ],
      "execution_count": null,
      "outputs": []
    },
    {
      "cell_type": "markdown",
      "metadata": {
        "id": "46Unue8IHVDZ",
        "colab_type": "text"
      },
      "source": [
        "As you can see from the graph above, the infectious population is still growing exponentially. Comparing the base scenario with this slow measures scenario, we can see that there is little difference."
      ]
    },
    {
      "cell_type": "code",
      "metadata": {
        "id": "05t5KOWvHVDZ",
        "colab_type": "code",
        "colab": {}
      },
      "source": [
        "bptk.plot_scenarios(\n",
        "    scenario_managers=[\"smSir\"],\n",
        "    scenarios=[\"weakSocialDistancing\"],\n",
        "    title=\"Weak Social Distancing: Intensive Care\",\n",
        "    x_label=\"Days\",\n",
        "    y_label=\"Units\",\n",
        "    equations=[\"intensive_needed\",\"intensive_available\"],\n",
        "    series_names={\n",
        "        \"smSir_weakSocialDistancing_intensive_needed\" : \"Intensive Care Needed\",\n",
        "        \"smSir_weakSocialDistancing_intensive_available\" : \"Intensive Care Available\" \n",
        "    },\n",
        "    visualize_to_period=300\n",
        ")"
      ],
      "execution_count": null,
      "outputs": []
    },
    {
      "cell_type": "markdown",
      "metadata": {
        "id": "7XJEgEVgHVDd",
        "colab_type": "text"
      },
      "source": [
        "#### Strong Social Distancing"
      ]
    },
    {
      "cell_type": "markdown",
      "metadata": {
        "id": "fI1IqanmHVDl",
        "colab_type": "text"
      },
      "source": [
        "Cleary we need stronger measures. In this scenario, we investigate what happens if we introduce strong measures rapidly and keep them up for quite some time:"
      ]
    },
    {
      "cell_type": "code",
      "metadata": {
        "id": "93ANJXkRHVDl",
        "colab_type": "code",
        "colab": {}
      },
      "source": [
        "points_list_small = []\n",
        "contact_small = normal_contact_rate(0)\n",
        "for t in range(int(model.stoptime)):\n",
        "    if t==25:\n",
        "        contact_small= 10\n",
        "    if t==41:\n",
        "        contact_small = 5\n",
        "    if t==500:\n",
        "        contact_small = 10\n",
        "    if t==1200:\n",
        "        contact_small = 20\n",
        "    points_list_small.append((t,contact_small))"
      ],
      "execution_count": null,
      "outputs": []
    },
    {
      "cell_type": "code",
      "metadata": {
        "id": "10cd2An-HVDq",
        "colab_type": "code",
        "colab": {}
      },
      "source": [
        "scenario_strong= bptk.get_scenario(\"smSir\",\"strongSocialDistancing\")\n",
        "scenario_strong.constants[\"dashboard_on\"]=0.0\n",
        "scenario_strong.points[\"variable_contact_rate\"]=points_list_small\n",
        "bptk.reset_simulation_model(scenario_manager=\"smSir\", scenario=\"strongSocialDistancing\")"
      ],
      "execution_count": null,
      "outputs": []
    },
    {
      "cell_type": "code",
      "metadata": {
        "id": "Nr04sH9rHVDs",
        "colab_type": "code",
        "colab": {}
      },
      "source": [
        "bptk.plot_scenarios(\n",
        "    scenario_managers=[\"smSir\"],\n",
        "    scenarios=[\"strongSocialDistancing\"],\n",
        "    title=\"Strong Social Distancing: Contact Rate\",\n",
        "    x_label=\"Days\",\n",
        "    y_label=\"Persons\",\n",
        "    equations=[\"contact_rate\"],\n",
        "    series_names={\n",
        "        \"smSir_strongSocialDistancing_contact_rate\" : \"Contact Rate\"\n",
        "    },\n",
        "    visualize_to_period=1500\n",
        ")"
      ],
      "execution_count": null,
      "outputs": []
    },
    {
      "cell_type": "markdown",
      "metadata": {
        "id": "ESMlCjVfHVDu",
        "colab_type": "text"
      },
      "source": [
        "The graph below shows that the strict measures help to reduce the spreading of the virus. The infectious population does not grow exponentially. This is good to know - we can achieve something by social distancing, the main remaining question is how harsh the measures have to be."
      ]
    },
    {
      "cell_type": "code",
      "metadata": {
        "id": "ABeBXF_qHVDu",
        "colab_type": "code",
        "colab": {}
      },
      "source": [
        "bptk.plot_scenarios(\n",
        "    scenario_managers=[\"smSir\"],\n",
        "    scenarios=[\"strongSocialDistancing\"],\n",
        "    title=\"Strong Social Distancing: Recovered Population vs. Deaths\",\n",
        "    x_label=\"Days\",\n",
        "    y_label=\"Persons\",\n",
        "    equations=[\"infectious\",\"recovered\",\"deceased\"],\n",
        "    series_names={\n",
        "        \"smSir_strongSocialDistancing_infectious\" : \"Infectious Population\",\n",
        "        \"smSir_strongSocialDistancing_recovered\" : \"Recovered Population\",\n",
        "        \"smSir_strongSocialDistancing_deceased\": \"Deaths\"\n",
        "    },\n",
        "    visualize_to_period=300\n",
        ")"
      ],
      "execution_count": null,
      "outputs": []
    },
    {
      "cell_type": "markdown",
      "metadata": {
        "id": "KW7XeiSfHVDz",
        "colab_type": "text"
      },
      "source": [
        "Comparing this scenario with the base scenario we can see how important social distancing is."
      ]
    },
    {
      "cell_type": "code",
      "metadata": {
        "id": "bmr3L23wHVEF",
        "colab_type": "code",
        "colab": {}
      },
      "source": [
        "bptk.plot_scenarios(\n",
        "    scenario_managers=[\"smSir\"],\n",
        "    scenarios=[\"strongSocialDistancing\"],\n",
        "    title=\"Long Term Case: Intensive Care\",\n",
        "    x_label=\"Days\",\n",
        "    y_label=\"Units\",\n",
        "    equations=[\"intensive_needed\",\"intensive_available\"],\n",
        "    series_names={\n",
        "        \"smSir_strongSocialDistancing_intensive_needed\" : \"Intensive Care Needed\",\n",
        "        \"smSir_strongSocialDistancing_intensive_available\" : \"Intensive Care Available\" \n",
        "    },\n",
        "    visualize_to_period=300\n",
        ")"
      ],
      "execution_count": null,
      "outputs": []
    },
    {
      "cell_type": "markdown",
      "metadata": {
        "id": "sKwjQkb4HVEL",
        "colab_type": "text"
      },
      "source": [
        "For this scenario there are enough intensive care units available. A collapse of the heathcare system won't happen."
      ]
    },
    {
      "cell_type": "markdown",
      "metadata": {
        "id": "lh_229CFHVEM",
        "colab_type": "text"
      },
      "source": [
        "#### Reducing contact rate from large groups to two people for only a short period of time"
      ]
    },
    {
      "cell_type": "markdown",
      "metadata": {
        "id": "oIL6SRvpHVEM",
        "colab_type": "text"
      },
      "source": [
        "This scenario reduces the contact rate to 2 after ten days and increases the contact rate 90 days later to 20."
      ]
    },
    {
      "cell_type": "code",
      "metadata": {
        "id": "F4N4Zp2yHVEM",
        "colab_type": "code",
        "colab": {}
      },
      "source": [
        "points_list_two = []\n",
        "contact_two = normal_contact_rate(0)\n",
        "for t in range(int(model.stoptime)):\n",
        "    if t==10:\n",
        "        contact_two = 2\n",
        "    if t==100:\n",
        "        contact_two = 20\n",
        "    points_list_two.append((t,contact_two))"
      ],
      "execution_count": null,
      "outputs": []
    },
    {
      "cell_type": "code",
      "metadata": {
        "id": "L7xPaX_VHVEY",
        "colab_type": "code",
        "colab": {}
      },
      "source": [
        "scenario_short = bptk.get_scenario(\"smSir\",\"shortTermMeasures\")\n",
        "scenario_short.constants[\"dashboard_on\"] = 0.0\n",
        "scenario_short.points[\"variable_contact_rate\"] = points_list_two\n",
        "bptk.reset_simulation_model(scenario_manager=\"smSir\", scenario=\"shortTermMeasures\")"
      ],
      "execution_count": null,
      "outputs": []
    },
    {
      "cell_type": "code",
      "metadata": {
        "id": "OlGtkn3sHVEd",
        "colab_type": "code",
        "colab": {}
      },
      "source": [
        "bptk.plot_scenarios(\n",
        "    scenario_managers=[\"smSir\"],\n",
        "    scenarios=[\"shortTermMeasures\"],\n",
        "    title=\"Short Term Measures: Contact Rate\",\n",
        "    x_label=\"Days\",\n",
        "    y_label=\"Persons\",\n",
        "    equations=[\"contact_rate\"],\n",
        "    series_names={\n",
        "        \"smSir_shortTermMeasures_contact_rate\" : \"Contact Rate\"\n",
        "    },\n",
        "    visualize_to_period=1500\n",
        ")"
      ],
      "execution_count": null,
      "outputs": []
    },
    {
      "cell_type": "markdown",
      "metadata": {
        "id": "jgq0lC9QHVEi",
        "colab_type": "text"
      },
      "source": [
        "We immediately see that this doesn't help:"
      ]
    },
    {
      "cell_type": "code",
      "metadata": {
        "id": "v6-S5xbYHVEi",
        "colab_type": "code",
        "colab": {}
      },
      "source": [
        "bptk.plot_scenarios(\n",
        "    scenario_managers=[\"smSir\"],\n",
        "    scenarios=[\"shortTermMeasures\"],\n",
        "    title=\"Short Term Measures: Recovered Population vs. Deaths\",\n",
        "    x_label=\"Days\",\n",
        "    y_label=\"Persons\",\n",
        "    equations=[\"infectious\",\"recovered\",\"deceased\"],\n",
        "    series_names={\n",
        "        \"smSir_shortTermMeasures_infectious\" : \"Infectious Population\",\n",
        "        \"smSir_shortTermMeasures_recovered\" : \"Recovered Population\",\n",
        "        \"smSir_shortTermMeasures_deceased\": \"Deceased\"\n",
        "    },\n",
        "    visualize_to_period=300\n",
        ")"
      ],
      "execution_count": null,
      "outputs": []
    },
    {
      "cell_type": "markdown",
      "metadata": {
        "id": "nxfRCA0WHVEn",
        "colab_type": "text"
      },
      "source": [
        "All that we achieve is to move the peak into the future. So this scenario would buy us time, but not more."
      ]
    },
    {
      "cell_type": "code",
      "metadata": {
        "id": "2TNm35_SHVEn",
        "colab_type": "code",
        "colab": {}
      },
      "source": [
        "bptk.plot_scenarios(\n",
        "    scenario_managers=[\"smSir\"],\n",
        "    scenarios=[\"shortTermMeasures\",\"base\"],\n",
        "    title=\"Infectious Population\",\n",
        "    x_label=\"Days\",\n",
        "    y_label=\"Persons\",\n",
        "    equations=[\"infectious\"],\n",
        "    series_names={\n",
        "        \"smSir_base_infectious\" : \"Base Case\",\n",
        "        \"smSir_shortTermMeasures_infectious\" : \"Short Term Measures\"\n",
        "    },\n",
        "    visualize_to_period=300\n",
        "    \n",
        ")"
      ],
      "execution_count": null,
      "outputs": []
    },
    {
      "cell_type": "markdown",
      "metadata": {
        "id": "2Vq8rJChHVEp",
        "colab_type": "text"
      },
      "source": [
        "Comparing this scenario with the base scenario shows that the problem is shifted to a later point in time."
      ]
    },
    {
      "cell_type": "code",
      "metadata": {
        "id": "1fbuKgl2HVEq",
        "colab_type": "code",
        "colab": {}
      },
      "source": [
        "bptk.plot_scenarios(\n",
        "    scenario_managers=[\"smSir\"],\n",
        "    scenarios=[\"shortTermMeasures\"],\n",
        "    title=\"Short Term Measures: Intensive Care\",\n",
        "    x_label=\"Days\",\n",
        "    y_label=\"Units\",\n",
        "    equations=[\"intensive_needed\",\"intensive_available\"],\n",
        "    series_names={\n",
        "        \"smSir_shortTermMeasures_intensive_needed\" : \"Intensive Care Needed\",\n",
        "        \"smSir_shortTermMeasures_intensive_available\" : \"Intensive Care Available\" \n",
        "    },\n",
        "    visualize_to_period=300\n",
        ")"
      ],
      "execution_count": null,
      "outputs": []
    },
    {
      "cell_type": "markdown",
      "metadata": {
        "id": "LPabzqDCHVEt",
        "colab_type": "text"
      },
      "source": [
        "As expected, there are not enough intensive care units but only at a later point of time."
      ]
    },
    {
      "cell_type": "markdown",
      "metadata": {
        "id": "hx8k3HK-HVEu",
        "colab_type": "text"
      },
      "source": [
        "## Summary\n",
        "\n",
        "Though this is actually quite a simple model with only few parameters, we can already simulate some interesting aspects of the COVID-19 pandemic:\n",
        "\n",
        "* The behaviour over the first 25 days fits nicely with the situation in Germany.\n",
        "* If no measures are taken, we will experience exponential growth of COVID-19 cases in a very short period of time.\n",
        "* Implementing strong social distancing methods leads to the desired result of keeping the number of COVID-19 cases low and not putting too much strain on the healthcare system.\n",
        "* Unfortunately the social distancing measures have to be kept up for quite some time in order to have an effect.\n",
        "\n",
        "The SIR model presented here could be extended in many ways:\n",
        "\n",
        "* Currently, the model doesn't take into account regional differences.\n",
        "* The recovery rate as defined in the SIR model doesn't seem to fit reality well. We should seek a more robust implementation.\n",
        "* The model is only roughly calibrated. Meanwhile we have plenty of data on the pandemic from all over the world, so there is an opportunity here for creating a more detailed, calibrated model.\n",
        "\n",
        "Currently we are working on an agent based version of the model and are also planning to calibrate the model against available data. So make sure to check our Git repo for future updates."
      ]
    }
  ]
}