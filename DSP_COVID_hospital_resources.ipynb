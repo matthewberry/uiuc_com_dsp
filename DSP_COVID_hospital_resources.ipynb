{
  "nbformat": 4,
  "nbformat_minor": 0,
  "metadata": {
    "kernelspec": {
      "display_name": "Python 3",
      "language": "python",
      "name": "python3"
    },
    "language_info": {
      "codemirror_mode": {
        "name": "ipython",
        "version": 3
      },
      "file_extension": ".py",
      "mimetype": "text/x-python",
      "name": "python",
      "nbconvert_exporter": "python",
      "pygments_lexer": "ipython3",
      "version": "3.7.3"
    },
    "toc": {
      "base_numbering": 1,
      "nav_menu": {},
      "number_sections": true,
      "sideBar": true,
      "skip_h1_title": false,
      "title_cell": "Table of Contents",
      "title_sidebar": "Contents",
      "toc_cell": false,
      "toc_position": {
        "height": "calc(100% - 180px)",
        "left": "10px",
        "top": "150px",
        "width": "165px"
      },
      "toc_section_display": true,
      "toc_window_display": true
    },
    "varInspector": {
      "cols": {
        "lenName": 16,
        "lenType": 16,
        "lenVar": 40
      },
      "kernels_config": {
        "python": {
          "delete_cmd_postfix": "",
          "delete_cmd_prefix": "del ",
          "library": "var_list.py",
          "varRefreshCmd": "print(var_dic_list())"
        },
        "r": {
          "delete_cmd_postfix": ") ",
          "delete_cmd_prefix": "rm(",
          "library": "var_list.r",
          "varRefreshCmd": "cat(var_dic_list()) "
        }
      },
      "position": {
        "height": "410.73370361328125px",
        "left": "509.94024658203125px",
        "right": "20px",
        "top": "116.97554779052734px",
        "width": "361.25px"
      },
      "types_to_exclude": [
        "module",
        "function",
        "builtin_function_or_method",
        "instance",
        "_Feature"
      ],
      "window_display": false
    },
    "colab": {
      "name": "DSP_COVID_hospital_resources.ipynb",
      "provenance": [],
      "include_colab_link": true
    }
  },
  "cells": [
    {
      "cell_type": "markdown",
      "metadata": {
        "id": "view-in-github",
        "colab_type": "text"
      },
      "source": [
        "<a href=\"https://colab.research.google.com/github/matthewberry/uiuc_com_dsp/blob/master/DSP_COVID_hospital_resources.ipynb\" target=\"_parent\"><img src=\"https://colab.research.google.com/assets/colab-badge.svg\" alt=\"Open In Colab\"/></a>"
      ]
    },
    {
      "cell_type": "markdown",
      "metadata": {
        "id": "akil2OuXHRUi",
        "colab_type": "text"
      },
      "source": [
        "## Simulating impact of COVID-19 on hospital resources in British Columbia\n",
        "\n",
        "*This notebook is based on [work](https://github.com/nammnjoshii/Simulating-impact-of-COVID-19-restrictions-relaxation-on-hospital-resources-in-British-Columbia/blob/master/Sim%20Covid19.ipynb) published by Adnan Beg, Nammn Joshii, Teguh Samudra, and Pratibha Thakur.*\n",
        "\n",
        "\n",
        "The authors of this notebook model many interrelated aspects of the pandemic. As you proceed, pay particular attention to the assumptions employed. Some are called out explicitly in the text, whereas others are evident only in reading the code. Consider the strength of the assumptions--which might be worth improving, and how? Also consider how the simulation could be adapted to examine other ways COVID-19 has stressed the healthcare system."
      ]
    },
    {
      "cell_type": "markdown",
      "metadata": {
        "id": "8KKrZ1q1HRUq",
        "colab_type": "text"
      },
      "source": [
        "## Introduction \n",
        "\n",
        "The COVID-19 pandemic has stressed healthcare systems around the world in many ways. This notebook considers one stressor, the demand for ventilators.\n",
        "\n",
        "British Columbia registered its first COVID-19 case on January 21st, 2020. By the time this notebook was created on April 11, 2020, case count there had increased exponentially to 1445. During that same period, Italy's own exponential case growth had overwhelmed hospitals, worsening patient outcomes.\n",
        "\n",
        "## Objective\n",
        "\n",
        "To predict the number of COVID-19 patients who will require critical care in British Columbia, Canada, in order to support resource planning for management of the pandemic. \n",
        "\n",
        "## Assumptions\n",
        "\n",
        "- The simulation uses data from April 11, 2020.\n",
        "- An infected person might or might not become critically ill. Pre-existing conditions increase the likelihood of critical illness.\n",
        "- The limiting hospital resource will be ventilator-capable critical care beds.\n",
        "- All critical patients will need a ventilator-capable critical care bed for 14 days.\n",
        "- A COVID-19 case is closed when the infected person recovers or dies.\n",
        "- A person who recovers from COVID-19 cannot be infected again.\n",
        "\n",
        "## Approach\n",
        "\n",
        "- We first examine the current situation in British Columbia with respect to confirmed coronavirus cases and hospital resources available. \n",
        "- We then simulate age and pre-existing health conditions to determine the criticality of the patients. \n",
        "- Finally, we assess the critical-patient demand on hospital resources under three scenarios. \n",
        "\n",
        "## Sources\n",
        "\n",
        "[1] https://www.canada.ca/en/public-health/services/diseases/2019-novel-coronavirus-infection.html\n",
        "\n",
        "[2] https://resources-covid19canada.hub.arcgis.com/pages/demographics\n",
        "\n",
        "[3] https://www.indexmundi.com/canada/age_structure.html\n",
        "\n",
        "[4] https://www.worldometers.info/coronavirus/coronavirus-age-sex-demographics/\n",
        "\n",
        "[5] https://ici.radio-canada.ca/info/2020/coronavirus-covid-19-pandemie-cas-carte-maladie-symptomes-propagation/\n",
        "\n",
        "[6] https://www.theglobeandmail.com/canada/british-columbia/article-bc-should-have-enough-beds-and-ventilators-for-covid-19-patients/"
      ]
    },
    {
      "cell_type": "markdown",
      "metadata": {
        "id": "o5o6KwlOHRUs",
        "colab_type": "text"
      },
      "source": [
        "# Import Packages\n",
        "\n",
        "The cell below will import packages used throughout the simulation. You can ignore its output."
      ]
    },
    {
      "cell_type": "code",
      "metadata": {
        "ExecuteTime": {
          "end_time": "2020-04-13T02:27:37.234865Z",
          "start_time": "2020-04-13T02:27:35.041953Z"
        },
        "id": "d8oypirAHRUx",
        "colab_type": "code",
        "colab": {}
      },
      "source": [
        "import pandas as pd\n",
        "import matplotlib.pyplot as plt\n",
        "import numpy as np\n",
        "import random\n",
        "from scipy.stats import truncnorm\n",
        "from collections import Counter\n",
        "import math\n",
        "import seaborn as sns\n",
        "import requests\n",
        "import IPython.display as Disp"
      ],
      "execution_count": null,
      "outputs": []
    },
    {
      "cell_type": "markdown",
      "metadata": {
        "id": "CDGXXNElHRU2",
        "colab_type": "text"
      },
      "source": [
        "# Import Dataset\n",
        "\n",
        "The cell below loads case data from a CSV file and drops portions of the table that won't be used in the simulation.\n",
        "\n",
        "The `covid_bc.info()` command at the end will print summary information about the trimmed table."
      ]
    },
    {
      "cell_type": "code",
      "metadata": {
        "ExecuteTime": {
          "end_time": "2020-04-13T02:27:37.259005Z",
          "start_time": "2020-04-13T02:27:37.238653Z"
        },
        "id": "2cJoqXG8HRU3",
        "colab_type": "code",
        "colab": {}
      },
      "source": [
        "raw = pd.read_csv(\"https://drive.google.com/uc?id=10cTQ0fNLWI4k0K8JG7QaTMa84YWYBHvj\")\n",
        "drop_col = ['pruid', 'prnameFR', 'numprob', 'percentrecover', 'ratetested']\n",
        "covid_bc = raw[raw['prname'] == \"British Columbia\"].drop(drop_col, axis = 1)\n",
        "covid_bc.info()"
      ],
      "execution_count": null,
      "outputs": []
    },
    {
      "cell_type": "markdown",
      "metadata": {
        "id": "YsVjVpv3gW6D",
        "colab_type": "text"
      },
      "source": [
        "As of April 11th, 2020, there were 1,445 confirmed positive COVID-19 cases in British Columbia. 963 of these cases were closed (905 in recovery, and 58 in death).\n",
        "\n",
        "On that same day, British Columbia had 348 ventilator-capable critical care beds available for COVID-19 patients.\n",
        "\n",
        "The next few cells will plot the progression of some of these quantities over the first weeks of the pandemic.\n",
        "\n",
        "_Note: If you're viewing this notebook in dark mode and can't read labels on the plots, try switching to light mode. From the menu near the top-left corner of the screen, click on Tools and select Settings. In the Site section of the settings window, select \"light\" as the Theme and then press the save button._ \n"
      ]
    },
    {
      "cell_type": "code",
      "metadata": {
        "ExecuteTime": {
          "end_time": "2020-04-13T02:27:37.626327Z",
          "start_time": "2020-04-13T02:27:37.264227Z"
        },
        "id": "Za1k_EDVHRU8",
        "colab_type": "code",
        "colab": {}
      },
      "source": [
        "plt.figure(figsize=(15,6))\n",
        "plt.plot(covid_bc['date'], covid_bc['numconf'])\n",
        "plt.title(\"Number of Confirmed Cases\")\n",
        "plt.xticks(rotation = 45)\n",
        "plt.show()"
      ],
      "execution_count": null,
      "outputs": []
    },
    {
      "cell_type": "code",
      "metadata": {
        "ExecuteTime": {
          "end_time": "2020-04-13T02:27:37.976622Z",
          "start_time": "2020-04-13T02:27:37.630951Z"
        },
        "id": "Z4B3jVUZHRVC",
        "colab_type": "code",
        "colab": {}
      },
      "source": [
        "plt.figure(figsize=(15,6))\n",
        "plt.plot(covid_bc['date'], covid_bc['numdeaths'])\n",
        "plt.title(\"Number of Deaths\")\n",
        "plt.xticks(rotation = 45)\n",
        "plt.show()"
      ],
      "execution_count": null,
      "outputs": []
    },
    {
      "cell_type": "code",
      "metadata": {
        "ExecuteTime": {
          "end_time": "2020-04-13T02:27:38.208639Z",
          "start_time": "2020-04-13T02:27:37.978828Z"
        },
        "id": "R2UKm1QqHRVG",
        "colab_type": "code",
        "colab": {}
      },
      "source": [
        "plt.figure(figsize=(15,6))\n",
        "plt.plot(covid_bc['date'], covid_bc['numtested'])\n",
        "plt.title(\"Number of Tested Patients\")\n",
        "plt.xticks(rotation=45)\n",
        "plt.show()"
      ],
      "execution_count": null,
      "outputs": []
    },
    {
      "cell_type": "code",
      "metadata": {
        "ExecuteTime": {
          "end_time": "2020-04-13T02:27:38.546503Z",
          "start_time": "2020-04-13T02:27:38.211105Z"
        },
        "id": "JA0GCEMLHRVK",
        "colab_type": "code",
        "colab": {}
      },
      "source": [
        "plt.figure(figsize=(15,6))\n",
        "plt.plot(covid_bc['date'], covid_bc['numtoday'])\n",
        "plt.title(\"Number of New Cases\")\n",
        "plt.xticks(rotation=45)\n",
        "plt.show()"
      ],
      "execution_count": null,
      "outputs": []
    },
    {
      "cell_type": "code",
      "metadata": {
        "ExecuteTime": {
          "end_time": "2020-04-13T02:27:38.785874Z",
          "start_time": "2020-04-13T02:27:38.551764Z"
        },
        "id": "fkYYR3KHHRVO",
        "colab_type": "code",
        "colab": {}
      },
      "source": [
        "plt.figure(figsize=(15,6))\n",
        "plt.plot(covid_bc['numconf'], covid_bc['numtoday'])\n",
        "plt.title('Number of Total Cases vs Number of Daily Cases')\n",
        "plt.xlabel(\"Total Cases\")\n",
        "plt.ylabel(\"Daily Cases\")\n",
        "plt.show()"
      ],
      "execution_count": null,
      "outputs": []
    },
    {
      "cell_type": "markdown",
      "metadata": {
        "id": "rl1PmCBCzHNL",
        "colab_type": "text"
      },
      "source": [
        "The next cell extends the table with a new column named 'todaytest', which will contain the number of tests each day. It also calculates basic statistics of the new column, which will be used later to simulate testing. Finally, it prints the basic statistics."
      ]
    },
    {
      "cell_type": "code",
      "metadata": {
        "ExecuteTime": {
          "end_time": "2020-04-13T02:27:38.815146Z",
          "start_time": "2020-04-13T02:27:38.803987Z"
        },
        "id": "Xy8hxFMYHRVd",
        "colab_type": "code",
        "colab": {}
      },
      "source": [
        "covid_bc['todaytest'] = covid_bc['numtested'].diff()\n",
        "DAILY_TEST_AVG = np.mean(covid_bc['todaytest'])\n",
        "DAILY_TEST_STD = np.floor(np.std(covid_bc['todaytest']))\n",
        "DAILY_TEST_MAX = np.max(covid_bc['todaytest'])\n",
        "print(\"On average, there are {} tests administered every day\".format(np.floor(DAILY_TEST_AVG)))\n",
        "print(\"with a standard deviation of {}\".format(DAILY_TEST_STD))\n",
        "print(\"and a maximum of {} tests\".format(DAILY_TEST_MAX))"
      ],
      "execution_count": null,
      "outputs": []
    },
    {
      "cell_type": "markdown",
      "metadata": {
        "id": "0QyE5AmLHRVi",
        "colab_type": "text"
      },
      "source": [
        "# Create Population Pyramid"
      ]
    },
    {
      "cell_type": "markdown",
      "metadata": {
        "id": "JBkE91mOHRVy",
        "colab_type": "text"
      },
      "source": [
        "COVID-19 is found in people of all ages, but critical cases are more likely among people who are older or have pre-existing conditions. Code in this section will build a model population with a range of ages and pre-existing conditions. \n",
        "\n",
        "First, using the age group information found in [2] as a reference, we will approximate the age distribution of Vancouver residents. The image below shows a population pyramid for Canada as a whole."
      ]
    },
    {
      "cell_type": "code",
      "metadata": {
        "ExecuteTime": {
          "end_time": "2020-04-13T02:27:39.980744Z",
          "start_time": "2020-04-13T02:27:39.270258Z"
        },
        "id": "0M3JfbMrHRVz",
        "colab_type": "code",
        "colab": {}
      },
      "source": [
        "img_url = 'https://drive.google.com/uc?id=1UNR1-7-6RVuWcPo9Yky3-yUfhkjr5fQr'\n",
        "Disp.Image(requests.get(img_url).content)"
      ],
      "execution_count": null,
      "outputs": []
    },
    {
      "cell_type": "markdown",
      "metadata": {
        "id": "SIvG6osUHRVi",
        "colab_type": "text"
      },
      "source": [
        "## Define Age Groups\n",
        "\n",
        "Note we will not separate our simulated population by gender."
      ]
    },
    {
      "cell_type": "code",
      "metadata": {
        "ExecuteTime": {
          "end_time": "2020-04-13T02:27:39.243361Z",
          "start_time": "2020-04-13T02:27:38.817692Z"
        },
        "id": "lcWfgNiMHRVl",
        "colab_type": "code",
        "colab": {}
      },
      "source": [
        "np.random.seed(60)\n",
        "# Age group = 0-4\n",
        "AGE_GRP1_SIZE = 228784\n",
        "group1_dist = list(np.floor(np.random.uniform(0, 4, size=AGE_GRP1_SIZE)))\n",
        "\n",
        "# Age group = 5-9\n",
        "AGE_GRP2_SIZE = 236493\n",
        "group2_dist = list(np.floor(np.random.uniform(5, 9, size=AGE_GRP2_SIZE)))\n",
        "\n",
        "# Age Group = 10-14\n",
        "AGE_GRP3_SIZE = 240928\n",
        "group3_dist = list(np.floor(np.random.uniform(10, 14, size=AGE_GRP3_SIZE)))\n",
        "\n",
        "# Age Group = 15-19 \n",
        "AGE_GRP4_SIZE = 255862\n",
        "group4_dist = list(np.floor(np.random.uniform(15, 19, size=AGE_GRP4_SIZE)))\n",
        "\n",
        "# Age Group = 20-24\n",
        "AGE_GRP5_SIZE = 324323\n",
        "group5_dist = list(np.floor(np.random.uniform(20, 24, size=AGE_GRP5_SIZE)))\n",
        "\n",
        "# Age Group 25-29\n",
        "AGE_GRP6_SIZE = 339551\n",
        "group6_dist = list(np.floor(np.random.uniform(25, 29, size=AGE_GRP6_SIZE)))\n",
        "\n",
        "# Age Group 30-34 \n",
        "AGE_GRP7_SIZE = 343054\n",
        "group7_dist = list(np.floor(np.random.uniform(30, 34, size=AGE_GRP7_SIZE)))\n",
        "\n",
        "# Age Group 35-39\n",
        "AGE_GRP8_SIZE = 341241\n",
        "group8_dist = list(np.floor(np.random.uniform(35, 39, size=AGE_GRP8_SIZE)))\n",
        "\n",
        "# Age Group 40-44\n",
        "AGE_GRP9_SIZE = 314422\n",
        "group9_dist = list(np.floor(np.random.uniform(40, 44, size=AGE_GRP9_SIZE)))\n",
        "\n",
        "# Age Group 45-49\n",
        "AGE_GRP10_SIZE = 322176\n",
        "group10_dist = list(np.floor(np.random.uniform(45, 49, size=AGE_GRP10_SIZE)))\n",
        "\n",
        "# Age Group 50-54 \n",
        "AGE_GRP11_SIZE = 329941\n",
        "group11_dist = list(np.floor(np.random.uniform(50, 54, size=AGE_GRP11_SIZE)))\n",
        "\n",
        "#Age Group 55-59\n",
        "AGE_GRP12_SIZE = 358588\n",
        "group12_dist = list(np.floor(np.random.uniform(55, 59, size=AGE_GRP12_SIZE)))\n",
        "\n",
        "# Age Group 60-64\n",
        "AGE_GRP13_SIZE = 337108\n",
        "group13_dist = list(np.floor(np.random.uniform(60, 64, size=AGE_GRP13_SIZE)))\n",
        "\n",
        "# Age 65-69\n",
        "AGE_GRP14_SIZE = 292760\n",
        "group14_dist = list(np.floor(np.random.uniform(65, 69, size=AGE_GRP14_SIZE)))\n",
        "\n",
        "# Age 70-74\n",
        "AGE_GRP15_SIZE = 244029\n",
        "group15_dist = list(np.floor(np.random.uniform(70, 74, size=AGE_GRP15_SIZE)))\n",
        "\n",
        "# Age Group 75-79\n",
        "AGE_GRP16_SIZE = 168673\n",
        "group16_dist = list(np.floor(np.random.uniform(75, 79, size=AGE_GRP16_SIZE)))\n",
        "\n",
        "# Age Group 80-84\n",
        "AGE_GRP17_SIZE = 114197\n",
        "group17_dist = list(np.floor(np.random.uniform(80, 84, size=AGE_GRP17_SIZE)))\n",
        "\n",
        "# Age Group 85+\n",
        "AGE_GRP18_SIZE = 120270\n",
        "group18_dist = list(np.floor(np.random.uniform(85, 89, size=AGE_GRP18_SIZE)))\n",
        "\n",
        "# Total Population\n",
        "TOTAL_POPULATION =  AGE_GRP1_SIZE + AGE_GRP2_SIZE + AGE_GRP3_SIZE + AGE_GRP4_SIZE + AGE_GRP5_SIZE + AGE_GRP6_SIZE + AGE_GRP7_SIZE + AGE_GRP8_SIZE + AGE_GRP9_SIZE + AGE_GRP10_SIZE + AGE_GRP11_SIZE + AGE_GRP12_SIZE + AGE_GRP13_SIZE + AGE_GRP14_SIZE + AGE_GRP15_SIZE + AGE_GRP16_SIZE + AGE_GRP17_SIZE + AGE_GRP18_SIZE \n",
        "TOTAL_POPULATION"
      ],
      "execution_count": null,
      "outputs": []
    },
    {
      "cell_type": "code",
      "metadata": {
        "ExecuteTime": {
          "end_time": "2020-04-13T02:27:40.473917Z",
          "start_time": "2020-04-13T02:27:39.983170Z"
        },
        "id": "ARl5_9GYHRV5",
        "colab_type": "code",
        "colab": {}
      },
      "source": [
        "age_combined_list = group1_dist + group2_dist + group3_dist + group4_dist + group5_dist + group6_dist + group7_dist + group8_dist + group9_dist + group10_dist + group11_dist + group12_dist + group13_dist + group14_dist + group15_dist + group16_dist + group17_dist + group18_dist"
      ],
      "execution_count": null,
      "outputs": []
    },
    {
      "cell_type": "code",
      "metadata": {
        "ExecuteTime": {
          "end_time": "2020-04-13T02:27:41.622008Z",
          "start_time": "2020-04-13T02:27:40.475920Z"
        },
        "id": "gAPFbXyNHRV8",
        "colab_type": "code",
        "colab": {}
      },
      "source": [
        "plt.hist(age_combined_list, bins=list(range(0, 105, 5)))\n",
        "plt.xlabel(\"Age\")\n",
        "plt.ylabel(\"Population\")\n",
        "plt.title(\"Vancouver Population Pyramid\")\n",
        "plt.show()"
      ],
      "execution_count": null,
      "outputs": []
    },
    {
      "cell_type": "markdown",
      "metadata": {
        "id": "qam8nzwUHRWA",
        "colab_type": "text"
      },
      "source": [
        "# Simulate Pre-Existing Conditions\n",
        "\n",
        "Using the information found in [4], we will simulate a binomial draw for pre-existing conditions. \n",
        "\n",
        "Each condition will be represented by a boolean array (using values 0 and 1) that will be merged with our age data."
      ]
    },
    {
      "cell_type": "markdown",
      "metadata": {
        "id": "S_I-BvzFHRWA",
        "colab_type": "text"
      },
      "source": [
        "## Probabilities"
      ]
    },
    {
      "cell_type": "markdown",
      "metadata": {
        "id": "Rffmh_XfcGRe",
        "colab_type": "text"
      },
      "source": [
        "Note that the probabilities used in our model are not dependent on age."
      ]
    },
    {
      "cell_type": "code",
      "metadata": {
        "ExecuteTime": {
          "end_time": "2020-04-13T02:27:41.632590Z",
          "start_time": "2020-04-13T02:27:41.624241Z"
        },
        "id": "6OfkL2QUHRWB",
        "colab_type": "code",
        "colab": {}
      },
      "source": [
        "CANCER_PROB = 0.0046\n",
        "HYPER_PROB = 0.3\n",
        "DIA_PROB = 0.1\n",
        "CARDIO_PROB = 0.069\n",
        "RESPIR_PROB = 0.1\n",
        "np.random.seed(60)"
      ],
      "execution_count": null,
      "outputs": []
    },
    {
      "cell_type": "code",
      "metadata": {
        "ExecuteTime": {
          "end_time": "2020-04-13T02:27:42.418491Z",
          "start_time": "2020-04-13T02:27:41.635552Z"
        },
        "id": "PTlMkDdOHRWH",
        "colab_type": "code",
        "colab": {}
      },
      "source": [
        "have_cancer = list(np.random.binomial(1, CANCER_PROB, TOTAL_POPULATION))\n",
        "Counter(have_cancer)"
      ],
      "execution_count": null,
      "outputs": []
    },
    {
      "cell_type": "code",
      "metadata": {
        "ExecuteTime": {
          "end_time": "2020-04-13T02:27:43.236089Z",
          "start_time": "2020-04-13T02:27:42.421205Z"
        },
        "id": "dlACjPdpHRWO",
        "colab_type": "code",
        "colab": {}
      },
      "source": [
        "have_hypertension = list(np.random.binomial(1, HYPER_PROB, TOTAL_POPULATION))\n",
        "Counter(have_hypertension)"
      ],
      "execution_count": null,
      "outputs": []
    },
    {
      "cell_type": "code",
      "metadata": {
        "ExecuteTime": {
          "end_time": "2020-04-13T02:27:44.031565Z",
          "start_time": "2020-04-13T02:27:43.238695Z"
        },
        "id": "A2V6TtuSHRWb",
        "colab_type": "code",
        "colab": {}
      },
      "source": [
        "have_diabetes = list(np.random.binomial(1, DIA_PROB, TOTAL_POPULATION))\n",
        "Counter(have_diabetes)"
      ],
      "execution_count": null,
      "outputs": []
    },
    {
      "cell_type": "code",
      "metadata": {
        "ExecuteTime": {
          "end_time": "2020-04-13T02:27:44.817593Z",
          "start_time": "2020-04-13T02:27:44.035788Z"
        },
        "id": "V--ewTa_HRWf",
        "colab_type": "code",
        "colab": {}
      },
      "source": [
        "have_cardio = list(np.random.binomial(1, CARDIO_PROB, TOTAL_POPULATION))\n",
        "Counter(have_cardio)"
      ],
      "execution_count": null,
      "outputs": []
    },
    {
      "cell_type": "code",
      "metadata": {
        "ExecuteTime": {
          "end_time": "2020-04-13T02:27:45.601858Z",
          "start_time": "2020-04-13T02:27:44.820173Z"
        },
        "scrolled": true,
        "id": "x3CJJ2RqHRWk",
        "colab_type": "code",
        "colab": {}
      },
      "source": [
        "have_respir = list(np.random.binomial(1, RESPIR_PROB, TOTAL_POPULATION))\n",
        "Counter(have_respir)"
      ],
      "execution_count": null,
      "outputs": []
    },
    {
      "cell_type": "markdown",
      "metadata": {
        "id": "kSnJLr8jHRWo",
        "colab_type": "text"
      },
      "source": [
        "## Combined Simulated Data"
      ]
    },
    {
      "cell_type": "markdown",
      "metadata": {
        "id": "BJKf8_lyz9La",
        "colab_type": "text"
      },
      "source": [
        "The cell below will create a single data frame with one row for each person and one column for each of the risk factors."
      ]
    },
    {
      "cell_type": "code",
      "metadata": {
        "ExecuteTime": {
          "end_time": "2020-04-13T02:27:52.642384Z",
          "start_time": "2020-04-13T02:27:45.611303Z"
        },
        "id": "ptQLYuHTHRWp",
        "colab_type": "code",
        "colab": {}
      },
      "source": [
        "df = pd.DataFrame({\n",
        "    'age': age_combined_list,\n",
        "    'have_cancer': have_cancer,\n",
        "    'have_cardio': have_cardio,\n",
        "    'have_diabetes': have_diabetes,\n",
        "    'have_hypertension': have_hypertension,\n",
        "    'have_respir': have_respir\n",
        "})"
      ],
      "execution_count": null,
      "outputs": []
    },
    {
      "cell_type": "markdown",
      "metadata": {
        "id": "UP14RzzqHRWx",
        "colab_type": "text"
      },
      "source": [
        "After merging the ages with the pre-existing conditions, the first few rows of the data frame look like this:"
      ]
    },
    {
      "cell_type": "code",
      "metadata": {
        "ExecuteTime": {
          "end_time": "2020-04-13T02:27:52.692955Z",
          "start_time": "2020-04-13T02:27:52.669122Z"
        },
        "id": "QHj-ARhYHRW2",
        "colab_type": "code",
        "colab": {}
      },
      "source": [
        "df.head()"
      ],
      "execution_count": null,
      "outputs": []
    },
    {
      "cell_type": "markdown",
      "metadata": {
        "id": "iaazjlrWHRW7",
        "colab_type": "text"
      },
      "source": [
        "# Mortality Approximation"
      ]
    },
    {
      "cell_type": "markdown",
      "metadata": {
        "id": "tNAzcA0-HRW7",
        "colab_type": "text"
      },
      "source": [
        "We begin by plotting the probability of death as a function of age, based on [4]."
      ]
    },
    {
      "cell_type": "code",
      "metadata": {
        "ExecuteTime": {
          "end_time": "2020-04-13T02:27:52.762616Z",
          "start_time": "2020-04-13T02:27:52.728325Z"
        },
        "id": "q5hpPUxfHRW-",
        "colab_type": "code",
        "colab": {}
      },
      "source": [
        "# Create a list containing integers from 0 to 100 to represent age of patients\n",
        "age_range = list(np.arange(100))\n",
        "# Create a list that represents mortality rate for different age groups\n",
        "# Source: [4]\n",
        "age_death_rate = np.repeat(np.array([0, 0.2, 0.4, 1.3, 3.6, 8.0, 14.8]),\n",
        "                           [10, 30, 10, 10, 10, 10, 20])\n",
        "plt.plot(age_range,age_death_rate)\n",
        "plt.xlabel(\"Age\")\n",
        "plt.ylabel(\"% Chance of Death\")\n",
        "plt.title(\"Probability of Death by Age\")\n",
        "plt.show()"
      ],
      "execution_count": null,
      "outputs": []
    },
    {
      "cell_type": "markdown",
      "metadata": {
        "id": "EtStRXFeHRXH",
        "colab_type": "text"
      },
      "source": [
        "In our COVID-19 simulation, we will define a critical patient as someone who has a high probability of dying as a function of their age and number of pre-existing conditions. \n",
        "\n",
        "The figure above only shows this probability as a function of age. We will next define a function that does two things:\n",
        "\n",
        "1.   Approximates the graph above for the case of zero pre-existing conditions.\n",
        "2.   Increases the probability of death for each additional pre-existing condition present."
      ]
    },
    {
      "cell_type": "markdown",
      "metadata": {
        "id": "6iYuphWPHRXI",
        "colab_type": "text"
      },
      "source": [
        "##Approximation with an exponential function\n",
        "\n",
        "The cell below defines a function that returns a probability of dying based on age and number of pre-existing conditions."
      ]
    },
    {
      "cell_type": "code",
      "metadata": {
        "ExecuteTime": {
          "end_time": "2020-04-13T02:27:53.369934Z",
          "start_time": "2020-04-13T02:27:53.360395Z"
        },
        "id": "9F7Nlk3EHRXN",
        "colab_type": "code",
        "colab": {}
      },
      "source": [
        "import math\n",
        "def get_death_prob(age, num_preexisting_conditions):\n",
        "    \"\"\"\n",
        "    Calculates the probability of dying based on an individual's age and number\n",
        "    of pre-existing conditions.\n",
        "    \n",
        "    Arguments:\n",
        "        age (float): The individual's age.\n",
        "        num_preexisting_conditions (int): The number of pre-existing conditions\n",
        "            the individual has.\n",
        "    \n",
        "    Returns:\n",
        "        float: The probability of dying.\n",
        "    \"\"\"\n",
        "    return (2.5*(1+num_preexisting_conditions))*math.exp(0.02*age-0.12) - 2.183"
      ],
      "execution_count": null,
      "outputs": []
    },
    {
      "cell_type": "markdown",
      "metadata": {
        "id": "rXbPUQbwHRXY",
        "colab_type": "text"
      },
      "source": [
        "## Probability of Death as a Function of Age Only"
      ]
    },
    {
      "cell_type": "markdown",
      "metadata": {
        "id": "T-gLLyTy0llp",
        "colab_type": "text"
      },
      "source": [
        "The cell below will plot the death probability from [4] along with the death probability from our function for the case of zero pre-existing conditions."
      ]
    },
    {
      "cell_type": "code",
      "metadata": {
        "ExecuteTime": {
          "end_time": "2020-04-13T02:27:53.691630Z",
          "start_time": "2020-04-13T02:27:53.372325Z"
        },
        "id": "mpKOGNOnHRXY",
        "colab_type": "code",
        "colab": {}
      },
      "source": [
        "death_rate_model = [get_death_prob(age, 0) for age in age_range]\n",
        "plt.plot(age_range, age_death_rate)\n",
        "plt.plot(age_range, death_rate_model)\n",
        "plt.ylabel(\"% Chance of Death\")\n",
        "plt.title(\"Probability of Death by Age\")\n",
        "plt.legend(('Actual Percentage', 'Approximation'))\n",
        "plt.show()"
      ],
      "execution_count": null,
      "outputs": []
    },
    {
      "cell_type": "markdown",
      "metadata": {
        "id": "hohk8qzqHRXd",
        "colab_type": "text"
      },
      "source": [
        "## Probability of Death Including Number of Pre-Existing Conditions\n",
        "\n",
        "The cell below adds curves for one, two, three, four, and five pre-existing conditions."
      ]
    },
    {
      "cell_type": "code",
      "metadata": {
        "ExecuteTime": {
          "end_time": "2020-04-13T02:27:53.975356Z",
          "start_time": "2020-04-13T02:27:53.694834Z"
        },
        "id": "44xSwRpUHRXf",
        "colab_type": "code",
        "colab": {}
      },
      "source": [
        "death_rate_model = [get_death_prob(age, 0) for age in age_range]\n",
        "death_rate_model1 = [get_death_prob(age, 1) for age in age_range]\n",
        "death_rate_model2 = [get_death_prob(age, 2) for age in age_range]\n",
        "death_rate_model3 = [get_death_prob(age, 3) for age in age_range]\n",
        "death_rate_model4 = [get_death_prob(age, 4) for age in age_range]\n",
        "death_rate_model5 = [get_death_prob(age, 5) for age in age_range]\n",
        "plt.plot(age_range, age_death_rate)\n",
        "plt.plot(age_range, death_rate_model)\n",
        "plt.plot(age_range, death_rate_model1)\n",
        "plt.plot(age_range, death_rate_model2)\n",
        "plt.plot(age_range, death_rate_model3)\n",
        "plt.plot(age_range, death_rate_model4)\n",
        "plt.plot(age_range, death_rate_model5)\n",
        "plt.xlabel(\"Age\")\n",
        "plt.ylabel(\"% Chance of Death\")\n",
        "plt.legend(('Actual Percentage', \n",
        "            'Pre-Existing Cond = 0', 'Pre-Existing Cond = 1', \n",
        "            'Pre-Existing Cond = 2', 'Pre-Existing Cond = 3', \n",
        "            'Pre-Existing Cond = 4', 'Pre-Existing Cond = 5'))\n",
        "plt.title(\"Probability of Death by Age\")\n",
        "plt.show()"
      ],
      "execution_count": null,
      "outputs": []
    },
    {
      "cell_type": "markdown",
      "metadata": {
        "id": "46Ss-HfSHRXk",
        "colab_type": "text"
      },
      "source": [
        "As the number of pre-existing conditions increases, so does the probability that the patient will die."
      ]
    },
    {
      "cell_type": "markdown",
      "metadata": {
        "id": "qpAl5VpUHRXl",
        "colab_type": "text"
      },
      "source": [
        "# Data Sampling"
      ]
    },
    {
      "cell_type": "markdown",
      "metadata": {
        "id": "rLR7fl9-HRXm",
        "colab_type": "text"
      },
      "source": [
        "Before running a simulation on the full dataset, which will take some time, let's work with a reduced set containing 1000 rows drawn at random from the simulated data frame."
      ]
    },
    {
      "cell_type": "code",
      "metadata": {
        "ExecuteTime": {
          "end_time": "2020-04-13T02:27:54.282897Z",
          "start_time": "2020-04-13T02:27:53.977960Z"
        },
        "id": "kMK_hOVjHRXn",
        "colab_type": "code",
        "colab": {}
      },
      "source": [
        "df_sampled = df.sample(n=1000, random_state=60)\n",
        "df_sampled.head()"
      ],
      "execution_count": null,
      "outputs": []
    },
    {
      "cell_type": "markdown",
      "metadata": {
        "id": "l7XPT0K9HRXw",
        "colab_type": "text"
      },
      "source": [
        "The function we defined in the previous section assumes that the probability of death depends not on the specific pre-existing condition or conditions that an individual has, but rather only on the **number** of pre-existing conditions. In this step, we will sum the number of pre-existing conditions for each individual."
      ]
    },
    {
      "cell_type": "code",
      "metadata": {
        "ExecuteTime": {
          "end_time": "2020-04-13T02:27:54.575346Z",
          "start_time": "2020-04-13T02:27:54.305647Z"
        },
        "id": "f97eBe82HRXw",
        "colab_type": "code",
        "colab": {}
      },
      "source": [
        "# sum the number of pre-condition\n",
        "df_sampled['total_preCond'] = df_sampled['have_cancer'] + df_sampled[\n",
        "    'have_cardio'] + df_sampled['have_diabetes'] + df_sampled[\n",
        "        'have_hypertension'] + df_sampled['have_respir']\n",
        "sns.catplot(x='total_preCond', kind='count', data=df_sampled)\n",
        "plt.xlabel('Number of Pre-Existing Conditions')\n",
        "plt.ylabel('Number of People')\n",
        "plt.show()"
      ],
      "execution_count": null,
      "outputs": []
    },
    {
      "cell_type": "markdown",
      "metadata": {
        "id": "RX17wBCSHRXy",
        "colab_type": "text"
      },
      "source": [
        "Keep in mind these counts are for our reduced set of 1000 rows.\n",
        "\n",
        "The next cell defines a function that simulates critical patients in a population, based on each person's age and number of pre-existing conditions."
      ]
    },
    {
      "cell_type": "code",
      "metadata": {
        "ExecuteTime": {
          "end_time": "2020-04-13T02:27:54.596423Z",
          "start_time": "2020-04-13T02:27:54.577391Z"
        },
        "id": "TNAD-3X-HRXz",
        "colab_type": "code",
        "colab": {}
      },
      "source": [
        "\n",
        "def calculate_critical_patients(df, age_col, preexist_cond_col):\n",
        "    \"\"\"\n",
        "    Given a data frame that contains age and number of pre-existing conditions,\n",
        "    returns a data frame that adds a new column named 'is_critical' that has value\n",
        "    0 for individuals who will not die in the simulation and 1 for individuals\n",
        "    at risk of dying in the simulation.\n",
        "\n",
        "    Arguments:\n",
        "        df (pandas.DataFrame): A data frame containing the population data.\n",
        "        age_col (str): The name of the column in `df` containing ages.\n",
        "        preexist_cond_col (str): The name of the column in `df` containing the\n",
        "            number of pre-existing conditions.\n",
        "    \"\"\"\n",
        "    \n",
        "    return_val = df.copy()\n",
        "    return_val['is_critical'] = return_val.apply(lambda row: \\\n",
        "        np.random.binomial(1, get_death_prob(row[age_col], row[preexist_cond_col]) / 100, size=1)[0], \\\n",
        "        axis=1)\n",
        "\n",
        "    return return_val"
      ],
      "execution_count": null,
      "outputs": []
    },
    {
      "cell_type": "markdown",
      "metadata": {
        "id": "hfvHBKM0UeZK",
        "colab_type": "text"
      },
      "source": [
        "The next cell uses the newly defined function to simulate critical patients among our sample of the population."
      ]
    },
    {
      "cell_type": "code",
      "metadata": {
        "ExecuteTime": {
          "end_time": "2020-04-13T02:27:54.925562Z",
          "start_time": "2020-04-13T02:27:54.599346Z"
        },
        "id": "jvW3f1qyHRX1",
        "colab_type": "code",
        "colab": {}
      },
      "source": [
        "df_sampled_critical = calculate_critical_patients(df_sampled, 'age', 'total_preCond')"
      ],
      "execution_count": null,
      "outputs": []
    },
    {
      "cell_type": "markdown",
      "metadata": {
        "id": "qLw0-jsSHRX5",
        "colab_type": "text"
      },
      "source": [
        "## Sampled Data Result\n",
        "\n",
        "The next cell will plot our critical and non-critical patients by age."
      ]
    },
    {
      "cell_type": "code",
      "metadata": {
        "ExecuteTime": {
          "end_time": "2020-04-13T02:27:55.976305Z",
          "start_time": "2020-04-13T02:27:54.927564Z"
        },
        "id": "nvP_jLAJHRX6",
        "colab_type": "code",
        "colab": {}
      },
      "source": [
        "sns.swarmplot('is_critical', 'age', data=df_sampled_critical)\n",
        "plt.title('1000 Samples')\n",
        "plt.show()"
      ],
      "execution_count": null,
      "outputs": []
    },
    {
      "cell_type": "markdown",
      "metadata": {
        "id": "8sdXFqthHRX-",
        "colab_type": "text"
      },
      "source": [
        "In the swarm plot above, the dots represent single patients in the sampled group. Blue dots represent people who were simulated to recover without ICU care if positive for COVID-19, while yellow dots represent people who were simulated to need ICU care if positive for COVID-19. \n",
        "\n",
        "The people in yellow constitute our critical group.\n",
        "\n",
        "We now need to extend this analysis to the entire population of Vancouver."
      ]
    },
    {
      "cell_type": "markdown",
      "metadata": {
        "ExecuteTime": {
          "end_time": "2020-04-10T02:59:58.146129Z",
          "start_time": "2020-04-10T02:59:58.142275Z"
        },
        "id": "wOPJb2wGHRX_",
        "colab_type": "text"
      },
      "source": [
        "# Analysis on the Entire Population\n",
        "\n",
        "Working with the entire population now, we will sum the pre-existing conditions for each person and plot the data."
      ]
    },
    {
      "cell_type": "code",
      "metadata": {
        "ExecuteTime": {
          "end_time": "2020-04-13T02:27:56.047196Z",
          "start_time": "2020-04-13T02:27:55.979324Z"
        },
        "id": "Mcr1EZOvHRX_",
        "colab_type": "code",
        "colab": {}
      },
      "source": [
        "# create a new column containing the number of pre-existing conditions\n",
        "df['total_preCond'] = df['have_cancer'] + df['have_cardio'] + df[\n",
        "    'have_diabetes'] + df['have_hypertension'] + df['have_respir']\n",
        "\n",
        "sns.catplot(x='total_preCond', kind='count', data=df)\n",
        "plt.xlabel('Number of Pre-Existing Conditions')\n",
        "plt.ylabel('Number of People (Millions)')\n",
        "plt.show()"
      ],
      "execution_count": null,
      "outputs": []
    },
    {
      "cell_type": "markdown",
      "metadata": {
        "id": "TQdOws81HRYH",
        "colab_type": "text"
      },
      "source": [
        "The exact counts from the histogram above are as follows:"
      ]
    },
    {
      "cell_type": "code",
      "metadata": {
        "ExecuteTime": {
          "end_time": "2020-04-13T02:27:58.391929Z",
          "start_time": "2020-04-13T02:27:57.683834Z"
        },
        "id": "4XD5IrBgHRYI",
        "colab_type": "code",
        "colab": {}
      },
      "source": [
        "Counter(df['total_preCond'])"
      ],
      "execution_count": null,
      "outputs": []
    },
    {
      "cell_type": "markdown",
      "metadata": {
        "id": "Guqn9zlMAKm2",
        "colab_type": "text"
      },
      "source": [
        "The next cell models the critical patients within the entire population. It will take about 3 minutes to complete."
      ]
    },
    {
      "cell_type": "code",
      "metadata": {
        "ExecuteTime": {
          "end_time": "2020-04-13T02:46:33.814473Z",
          "start_time": "2020-04-13T02:27:58.394437Z"
        },
        "id": "lqPd-11aHRYZ",
        "colab_type": "code",
        "colab": {}
      },
      "source": [
        "np.random.seed(60)\n",
        "df_critical = calculate_critical_patients(df, 'age', 'total_preCond')"
      ],
      "execution_count": null,
      "outputs": []
    },
    {
      "cell_type": "markdown",
      "metadata": {
        "id": "LcDlkoPqHRYc",
        "colab_type": "text"
      },
      "source": [
        "## Critical Patients"
      ]
    },
    {
      "cell_type": "markdown",
      "metadata": {
        "id": "DsWZUbryArAq",
        "colab_type": "text"
      },
      "source": [
        "Let's plot the number of non-critical and critical patients in our simulation of the entire population."
      ]
    },
    {
      "cell_type": "code",
      "metadata": {
        "ExecuteTime": {
          "end_time": "2020-04-13T02:46:35.007164Z",
          "start_time": "2020-04-13T02:46:33.816726Z"
        },
        "id": "K63muEgWHRYc",
        "colab_type": "code",
        "colab": {}
      },
      "source": [
        "sns.catplot(x='is_critical', kind='count', data=df_critical)\n",
        "plt.title(\"Non-Critial and Critical Patients\")\n",
        "plt.show()"
      ],
      "execution_count": null,
      "outputs": []
    },
    {
      "cell_type": "markdown",
      "metadata": {
        "id": "49aXdSgxBH6t",
        "colab_type": "text"
      },
      "source": [
        "Here are the precise counts:"
      ]
    },
    {
      "cell_type": "code",
      "metadata": {
        "ExecuteTime": {
          "end_time": "2020-04-13T02:46:35.540245Z",
          "start_time": "2020-04-13T02:46:35.008995Z"
        },
        "id": "SJtsdAByHRYe",
        "colab_type": "code",
        "colab": {}
      },
      "source": [
        "Counter(df_critical['is_critical'])"
      ],
      "execution_count": null,
      "outputs": []
    },
    {
      "cell_type": "markdown",
      "metadata": {
        "id": "0fDcgienVh0_",
        "colab_type": "text"
      },
      "source": [
        "The next five cells define functions that will be used in the subsequent modeling. Read the comments and the code as you run each of them."
      ]
    },
    {
      "cell_type": "code",
      "metadata": {
        "ExecuteTime": {
          "end_time": "2020-04-13T02:46:35.547407Z",
          "start_time": "2020-04-13T02:46:35.542501Z"
        },
        "id": "MIhT8yWeHRYh",
        "colab_type": "code",
        "colab": {}
      },
      "source": [
        "def simulate_counts(mean, stdev, maximum, size):\n",
        "    \"\"\"This function simulates a truncated distribution that has a range of [minimum, maximum],\n",
        "    with mean and std. dev\"\"\"\n",
        "\n",
        "    minimum = 0\n",
        "    # truncnorm requires shape parameters a and b\n",
        "    param_a = (minimum - mean) / stdev\n",
        "    param_b = (maximum - mean) / stdev\n",
        "\n",
        "    variates = truncnorm.rvs(param_a, param_b, loc=mean, scale=stdev, size=size)\n",
        "\n",
        "    return [int(x) for x in variates]"
      ],
      "execution_count": null,
      "outputs": []
    },
    {
      "cell_type": "code",
      "metadata": {
        "id": "mis6YeJlHRY0",
        "colab_type": "code",
        "colab": {}
      },
      "source": [
        "def simulate_testing(df, period, infected_fraction_initial, infected_fraction_final,\n",
        "                     daily_test_avg, daily_test_std, daily_test_max):\n",
        "    \"\"\"This function simulates testing over a period of days.\n",
        "\n",
        "    Arguments:\n",
        "        df (pandas.DataFrame): A data frame as returned by calculate_critical_patients.\n",
        "        period (int): The number of days to simulate.\n",
        "        infected_fraction_initial (float): The fraction of the population that is\n",
        "            infected at the beginning of the simulation.\n",
        "        infected_fraction_final (float): The fraction of the population that is\n",
        "            infected at the end of the simulation. The fraction will increase linearly,\n",
        "            day by day.\n",
        "        daily_test_avg (float): The mean of the number of tests conducted per day.\n",
        "        daily_test_std (float): The standard deviation of the number of tests\n",
        "            conducted per day.\n",
        "        daily_test_max (float): The max of the number of tests conducted per day.\n",
        "\n",
        "    Returns:\n",
        "        pandas.DataFrame: A data frame copied from the input `df` with additional\n",
        "            columns 'testing_day' and 'is_positive'.\n",
        "    \"\"\"\n",
        "    df_output = df.copy()\n",
        "    df_output['testing_day'] = None\n",
        "    df_output['is_positive'] = None\n",
        "    # set column types\n",
        "    df_output.testing_day = df_output.testing_day.astype('Int64')\n",
        "    df_output.is_positive = df_output.is_positive.astype('Int64')\n",
        "\n",
        "    infected_fraction = infected_fraction_initial\n",
        "    infected_fraction_step = (infected_fraction_final - infected_fraction_initial) / (1.0 * period)\n",
        "    \n",
        "    test_counts = simulate_counts(daily_test_avg, daily_test_std, daily_test_max, period)\n",
        "    for testing_day in range(period):\n",
        "        test_count = test_counts[testing_day]\n",
        "        \n",
        "        # in this simulation, a person will be tested only once during `period`\n",
        "        # for this day, select a random subset of the untested people to\n",
        "        # be tested now\n",
        "        df_untested = df_output[df_output['testing_day'].isna()]\n",
        "        patient_ids_today = df_untested.sample(test_count).index.values\n",
        "\n",
        "        # simulate the test results\n",
        "        test_results = np.random.binomial(1, infected_fraction, size=test_count)\n",
        "\n",
        "        # record the test results\n",
        "        df_output.loc[patient_ids_today, 'testing_day'] = testing_day\n",
        "        df_output.loc[patient_ids_today, 'is_positive'] = test_results\n",
        "    \n",
        "        infected_fraction += infected_fraction_step #FIXME move to bottom\n",
        "    \n",
        "    return df_output"
      ],
      "execution_count": null,
      "outputs": []
    },
    {
      "cell_type": "code",
      "metadata": {
        "id": "ygKmsE8VaE_v",
        "colab_type": "code",
        "colab": {}
      },
      "source": [
        "def print_summary(df_simulated):\n",
        "    \"\"\"\n",
        "    Given a data frame as returned by simulate_testing, prints a summary of\n",
        "    test results and critical cases.\n",
        "    \"\"\"\n",
        "    print(\"Over the next {} days, there will be a total of {} tests administered.\".format(\\\n",
        "        df_simulated['testing_day'].max(), df_simulated['testing_day'].count()))\n",
        "\n",
        "    df_positive = df_simulated[df_simulated['is_positive'] == 1]\n",
        "    df_critical = df_positive[df_positive['is_critical'] == 1]\n",
        "\n",
        "    print(\"Of the total administered tests, {} ({}%) will be positive.\".format(\\\n",
        "        df_positive.shape[0],\\\n",
        "        round(df_positive.shape[0] / df_simulated['testing_day'].count() * 100, 3)))\n",
        "\n",
        "    print(\"Of the total positive tests, {} ({}%) will be critical.\".format(\\\n",
        "        df_critical.shape[0],\\\n",
        "        round(df_critical.shape[0] / df_positive.shape[0] *100, 3)))"
      ],
      "execution_count": null,
      "outputs": []
    },
    {
      "cell_type": "code",
      "metadata": {
        "id": "FPekwXYmcGEG",
        "colab_type": "code",
        "colab": {}
      },
      "source": [
        "def calculate_daily_aggregations(df_simulated):\n",
        "    \"\"\"\n",
        "    Given a data frame as returned by simulate_testing, creates and returns a new\n",
        "    data frame with daily aggregations.\n",
        "    \"\"\"\n",
        "    df_positive = df_simulated[df_simulated['is_positive'] == 1]\n",
        "    df_aggs = df_positive.groupby(['testing_day'])[['is_positive', 'is_critical']].sum()\n",
        "    # at this point, there will be no nans in df_aggs, and we'll need to\n",
        "    # convert from Int64 to int64 for cumsum()\n",
        "    df_aggs.is_positive = df_aggs.is_positive.astype('int64')\n",
        "    df_aggs.is_critical = df_aggs.is_critical.astype('int64')\n",
        "    # rename the aggregation columns\n",
        "    df_aggs.rename(columns={'is_positive': 'today_positive', 'is_critical': 'today_critical'}, inplace=True)\n",
        "    df_aggs['cumulative_positive'] = df_aggs['today_positive'].cumsum()\n",
        "    df_aggs['cumulative_critical'] = df_aggs['today_critical'].cumsum()\n",
        "    return df_aggs"
      ],
      "execution_count": null,
      "outputs": []
    },
    {
      "cell_type": "code",
      "metadata": {
        "id": "pPv5C49bNSrH",
        "colab_type": "code",
        "colab": {}
      },
      "source": [
        "def simulate_case_closures_and_icu_burden(df_daily, death_avg, death_std, death_max,\n",
        "                                          recov_avg, recov_std, recov_max,\n",
        "                                          initial_icu_cases):\n",
        "    \"\"\"\n",
        "    Given a data frame as returned by calculate_daily_aggregations, creates a copy\n",
        "    of the data frame that also includes new columns with simulated daily deaths,\n",
        "    recoveries, and ICU burden.\n",
        "\n",
        "    Arguments:\n",
        "        df_daily (pandas.DataFrame): A data frame as returned by\n",
        "            calculate_daily_aggregations.\n",
        "        death_avg (float): The mean of the number of deaths per day.\n",
        "        death_std (float): The standard deviation of the number of deaths per day.\n",
        "        death_max (float): The max of the number of deaths per day.\n",
        "        recov_avg (float): The mean of the number of recoveries per day.\n",
        "        recov_std (float): The standard deviation of the number of recoveries per day.\n",
        "        recov_max (float): The max of the number of recoveries per day.\n",
        "        initial_icu_cases (int): The number of ICU cases on day 0.\n",
        "\n",
        "    Returns:\n",
        "        pandas.DataFrame: A data frame copied from the input `df` with additional\n",
        "            columns 'today_recovered', 'today_dead', 'today_closed',\n",
        "            'cumulative_closed', and 'today_icu'.\n",
        "    \"\"\"\n",
        "    df_output = df_daily.copy()\n",
        "    df_output['today_recovered'] = simulate_counts(RECOV_AVG, RECOV_STD, RECOV_MAX, df_daily1.shape[0])\n",
        "    df_output['today_dead'] = simulate_counts(DEATH_AVG, DEATH_STD, DEATH_MAX, df_daily1.shape[0])\n",
        "\n",
        "    df_output['today_closed'] = df_output['today_recovered'] + df_output['today_dead']\n",
        "    df_output['cumulative_closed'] = df_output['today_closed'].cumsum()\n",
        "    df_output['today_icu'] = initial_icu_cases + \\\n",
        "        df_output['cumulative_critical'] - df_output['cumulative_closed']\n",
        "\n",
        "    return df_output"
      ],
      "execution_count": null,
      "outputs": []
    },
    {
      "cell_type": "markdown",
      "metadata": {
        "id": "y_5sa5JCHRZE",
        "colab_type": "text"
      },
      "source": [
        "# Simulate scenarios\n",
        "\n",
        "Now we will simulate three scenarios representing different levels of social distancing.\n",
        "\n",
        "All simulations will share the constants defined in the next cell."
      ]
    },
    {
      "cell_type": "code",
      "metadata": {
        "id": "hzRkzau1O-b3",
        "colab_type": "code",
        "colab": {}
      },
      "source": [
        "# constants used in all scenarios\n",
        "DEATH_AVG = 3.29\n",
        "DEATH_STD = 1.5\n",
        "DEATH_MAX = 5\n",
        "RECOV_AVG = 0.99\n",
        "RECOV_STD = 0.62\n",
        "RECOV_MAX = 2.37\n",
        "INITIAL_ICU_CASES = 63"
      ],
      "execution_count": null,
      "outputs": []
    },
    {
      "cell_type": "markdown",
      "metadata": {
        "id": "akFf_mB_HRZE",
        "colab_type": "text"
      },
      "source": [
        "#### Scenario 1: Restrictions are relaxed but not completely removed\n",
        "\n",
        "In this scenario, we assume 3% of the population is infected now and 6% of the population will be infected on day 45.\n",
        "\n",
        "The next cell will simulate the results of testing over the 45-day period. It will then print a table showing positivity and criticality counts."
      ]
    },
    {
      "cell_type": "code",
      "metadata": {
        "id": "QNYPH77pHRZF",
        "colab_type": "code",
        "colab": {}
      },
      "source": [
        "# Simulate the daily cases for Scenario 1\n",
        "\n",
        "np.random.seed(123)\n",
        "\n",
        "df_simulated1 = simulate_testing(df_critical, 45, 0.03, 0.06, DAILY_TEST_AVG,\n",
        "                                 DAILY_TEST_STD, DAILY_TEST_MAX)\n",
        "\n",
        "df_simulated1.groupby(['is_positive', 'is_critical']).size()"
      ],
      "execution_count": null,
      "outputs": []
    },
    {
      "cell_type": "markdown",
      "metadata": {
        "id": "8DYNbTbWHRZL",
        "colab_type": "text"
      },
      "source": [
        "The next cell will print a summary of the scenario's results."
      ]
    },
    {
      "cell_type": "code",
      "metadata": {
        "id": "HwGCavNxHRZO",
        "colab_type": "code",
        "colab": {}
      },
      "source": [
        "print_summary(df_simulated1)"
      ],
      "execution_count": null,
      "outputs": []
    },
    {
      "cell_type": "markdown",
      "metadata": {
        "id": "EHXWj9h5Xh8_",
        "colab_type": "text"
      },
      "source": [
        "The next cell will aggregate the number of cases and critical case for each day."
      ]
    },
    {
      "cell_type": "code",
      "metadata": {
        "id": "FdZVus_5HRZR",
        "colab_type": "code",
        "colab": {}
      },
      "source": [
        "df_daily1 = calculate_daily_aggregations(df_simulated1)"
      ],
      "execution_count": null,
      "outputs": []
    },
    {
      "cell_type": "markdown",
      "metadata": {
        "id": "rcSfW4BrXoov",
        "colab_type": "text"
      },
      "source": [
        "The next cell will simulate daily ICU cases, recoveries, and deaths."
      ]
    },
    {
      "cell_type": "code",
      "metadata": {
        "id": "6IGHFIK1HRZV",
        "colab_type": "code",
        "colab": {}
      },
      "source": [
        "np.random.seed(123)\n",
        "\n",
        "df_daily1 = simulate_case_closures_and_icu_burden(\\\n",
        "    df_daily1, DEATH_AVG, DEATH_STD, DEATH_MAX, RECOV_AVG, RECOV_STD, RECOV_MAX,\\\n",
        "    INITIAL_ICU_CASES)\n",
        "df_daily1"
      ],
      "execution_count": null,
      "outputs": []
    },
    {
      "cell_type": "markdown",
      "metadata": {
        "id": "d4mWxIY-HRZZ",
        "colab_type": "text"
      },
      "source": [
        "#### Scenario 2: Restrictions stay the same for the next 20 days\n",
        "\n",
        "In this scenario, we assume 3% of the population is infected now and 0.5% of the population will be infected on day 45.\n",
        "\n",
        "It will follow the same steps as scenario 1 but use different parameters."
      ]
    },
    {
      "cell_type": "code",
      "metadata": {
        "id": "2gadoJV-HRZZ",
        "colab_type": "code",
        "colab": {}
      },
      "source": [
        "# Simulate the daily cases for Scenario 2\n",
        "\n",
        "np.random.seed(123)\n",
        "\n",
        "df_simulated2 = simulate_testing(df_critical, 45, 0.03, 0.005, DAILY_TEST_AVG,\n",
        "                                 DAILY_TEST_STD, DAILY_TEST_MAX)\n",
        "\n",
        "df_simulated2.groupby(['is_positive', 'is_critical']).size()"
      ],
      "execution_count": null,
      "outputs": []
    },
    {
      "cell_type": "code",
      "metadata": {
        "id": "jRnCA1TfHRZh",
        "colab_type": "code",
        "colab": {}
      },
      "source": [
        "print_summary(df_simulated2)"
      ],
      "execution_count": null,
      "outputs": []
    },
    {
      "cell_type": "code",
      "metadata": {
        "id": "tVeol0iiHRZj",
        "colab_type": "code",
        "colab": {}
      },
      "source": [
        "df_daily2 = calculate_daily_aggregations(df_simulated2)"
      ],
      "execution_count": null,
      "outputs": []
    },
    {
      "cell_type": "code",
      "metadata": {
        "id": "VN4VE2XCHRZl",
        "colab_type": "code",
        "colab": {}
      },
      "source": [
        "np.random.seed(123)\n",
        "\n",
        "df_daily2 = simulate_case_closures_and_icu_burden(\\\n",
        "    df_daily2, DEATH_AVG, DEATH_STD, DEATH_MAX, RECOV_AVG, RECOV_STD, RECOV_MAX,\\\n",
        "    INITIAL_ICU_CASES)\n",
        "df_daily2"
      ],
      "execution_count": null,
      "outputs": []
    },
    {
      "cell_type": "markdown",
      "metadata": {
        "id": "Qtun2qZyHRZq",
        "colab_type": "text"
      },
      "source": [
        "#### Scenario 3: Restrictions are eliminated\n",
        "\n",
        "In this scenario, we assume 3% of the population is infected now and 20% of the population will be infected on day 45.\n",
        "\n",
        "This scenario will also use the same steps as scenario 1 with new parameters."
      ]
    },
    {
      "cell_type": "code",
      "metadata": {
        "id": "dktpUGesHRZq",
        "colab_type": "code",
        "colab": {}
      },
      "source": [
        "# Simulate the daily cases for Scenario 3\n",
        "\n",
        "np.random.seed(123)\n",
        "\n",
        "df_simulated3 = simulate_testing(df_critical, 45, 0.03, 0.2, DAILY_TEST_AVG,\n",
        "                                 DAILY_TEST_STD, DAILY_TEST_MAX)\n",
        "\n",
        "df_simulated3.groupby(['is_positive', 'is_critical']).size()"
      ],
      "execution_count": null,
      "outputs": []
    },
    {
      "cell_type": "code",
      "metadata": {
        "id": "9uFEdEJRHRZ2",
        "colab_type": "code",
        "colab": {}
      },
      "source": [
        "print_summary(df_simulated3)"
      ],
      "execution_count": null,
      "outputs": []
    },
    {
      "cell_type": "code",
      "metadata": {
        "id": "iBDxT2N9HRZ4",
        "colab_type": "code",
        "colab": {}
      },
      "source": [
        "df_daily3 = calculate_daily_aggregations(df_simulated3)"
      ],
      "execution_count": null,
      "outputs": []
    },
    {
      "cell_type": "code",
      "metadata": {
        "id": "BFJuGU4sHRZ6",
        "colab_type": "code",
        "colab": {}
      },
      "source": [
        "np.random.seed(123)\n",
        "\n",
        "df_daily3 = simulate_case_closures_and_icu_burden(\\\n",
        "    df_daily3, DEATH_AVG, DEATH_STD, DEATH_MAX, RECOV_AVG, RECOV_STD, RECOV_MAX,\\\n",
        "    INITIAL_ICU_CASES)\n",
        "df_daily3"
      ],
      "execution_count": null,
      "outputs": []
    },
    {
      "cell_type": "markdown",
      "metadata": {
        "id": "UEfdoyXKYJ1T",
        "colab_type": "text"
      },
      "source": [
        "#### Comparison of scenarios\n",
        "\n",
        "The next two cells generate plots comparing the three scenarios we have modeled.\n"
      ]
    },
    {
      "cell_type": "code",
      "metadata": {
        "id": "mn7GU9QtHRZ_",
        "colab_type": "code",
        "colab": {}
      },
      "source": [
        "\n",
        "plt.figure(figsize=(8,6))\n",
        "plt.plot(df_daily1.index, df_daily1['cumulative_positive'], label=\"Scenario 1\")\n",
        "plt.plot(df_daily2.index, df_daily2['cumulative_positive'], label=\"Scenario 2\")\n",
        "plt.plot(df_daily3.index, df_daily3['cumulative_positive'], label=\"Scenario 3\")\n",
        "plt.xlabel(\"Days from Today\")\n",
        "plt.ylabel(\"Cumulative Positive Patients\")\n",
        "plt.title(\"Positive Patients\")\n",
        "plt.legend(loc=\"center left\", bbox_to_anchor=(1,0.5))\n",
        "plt.show()"
      ],
      "execution_count": null,
      "outputs": []
    },
    {
      "cell_type": "code",
      "metadata": {
        "id": "h3vib0XgHRaG",
        "colab_type": "code",
        "colab": {}
      },
      "source": [
        "\n",
        "plt.figure(figsize=(8,6))\n",
        "plt.plot(df_daily1.index, df_daily1['today_icu'], label=\"Scenario 1\")\n",
        "plt.plot(df_daily2.index, df_daily2['today_icu'], label=\"Scenario 2\")\n",
        "plt.plot(df_daily3.index, df_daily3['today_icu'], label=\"Scenario 3\")\n",
        "# plot horizontal line representing available hospital resources\n",
        "plt.plot(df_daily3.index, [348] * df_daily3.shape[0], 'k-', lw=1.5)\n",
        "plt.annotate('Available Hospital Resources', xy=(1, 360), xycoords='data')\n",
        "plt.title('Scenario Analysis: Critical Patients vs Hospital Resources Available')\n",
        "plt.ylabel('Number of Critical Patients')\n",
        "plt.xlabel(\"Days from Today\")\n",
        "plt.legend(loc=\"center left\", bbox_to_anchor=(1,0.5))\n",
        "plt.show()"
      ],
      "execution_count": null,
      "outputs": []
    },
    {
      "cell_type": "markdown",
      "metadata": {
        "id": "AZ2FyJqsZ5dI",
        "colab_type": "text"
      },
      "source": [
        "In scenario 3, the number of critical patients exceeds the number of currently available ventilator-capable critical care beds. This modeling could guide decisions on public policy--for example, rules about social distancing--and on equipment acquisition and allocation."
      ]
    }
  ]
}